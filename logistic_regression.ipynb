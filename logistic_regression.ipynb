{
 "cells": [
  {
   "cell_type": "markdown",
   "metadata": {},
   "source": [
    "# Machine Learned Sentiment Analysis using Python\n",
    "\n",
    "“Can our project correctly classify the sentiment of just about any\n",
    "sentence in the English language?”\n",
    "\n",
    "Our goal is to build and train a model that will be able to classify more\n",
    "than one dataset with over 70% accuracy on each of them. To this end,\n",
    "we might have to adjust some properties to avoid overfitting to one of the\n",
    "datasets to have it perform better on a general scale. Because we are\n",
    "still beginners to machine learning, we are more focused on getting a\n",
    "model successfully running.\n",
    "\n",
    "This Jupyter Notebook contains all the code necessary\n",
    "for the project, there are no other additional files other than the\n",
    "csv files for the datasets studied, though those can be obtained by\n",
    "downloading them through the links provided in the notebook near the\n",
    "blocks of code that require it.\n",
    "\n",
    "## 1.0 Binary classification using binary logistic regression\n",
    "\n",
    "For the first part of this notebook we will build a binary classification\n",
    "model, evaluated using logistic regression, as we learned in class. This\n",
    "section of the project is strongly based off of this blog post by\n",
    "Atharva Mashalkar.\n",
    "https://towardsdatascience.com/sentiment-analysis-using-logistic-regression-and-naive-bayes-16b806eb4c4b\n",
    "\n",
    "**Run the code cell below** to import the required packages.\n",
    "\n",
    "To start with, we will import the libraries by nltk (Natural Language Toolkit) package, which contains 5000\n",
    "which will help us with the preprocessing and training of our model. We will\n",
    "also need some libraries such as regular expressions to filter out\n",
    "unnecessary data."
   ]
  },
  {
   "cell_type": "code",
   "execution_count": 1,
   "metadata": {
    "pycharm": {
     "name": "#%%\n"
    }
   },
   "outputs": [
    {
     "name": "stderr",
     "output_type": "stream",
     "text": [
      "[nltk_data] Downloading package twitter_samples to\n",
      "[nltk_data]     C:\\Users\\PC\\AppData\\Roaming\\nltk_data...\n",
      "[nltk_data]   Package twitter_samples is already up-to-date!\n"
     ]
    },
    {
     "data": {
      "text/plain": [
       "True"
      ]
     },
     "execution_count": 1,
     "metadata": {},
     "output_type": "execute_result"
    }
   ],
   "source": [
    "import re\n",
    "import string\n",
    "import pandas as pd\n",
    "import nltk\n",
    "from nltk.corpus import stopwords\n",
    "from nltk.stem import PorterStemmer\n",
    "from nltk.stem import SnowballStemmer\n",
    "from nltk.tokenize import TweetTokenizer\n",
    "from nltk.corpus import twitter_samples\n",
    "import seaborn as sns\n",
    "import warnings\n",
    "import matplotlib.pyplot as plt\n",
    "\n",
    "import itertools\n",
    "import tensorflow as tf\n",
    "\n",
    "from sklearn.utils import shuffle\n",
    "\n",
    "import sklearn.model_selection  # for train and test splits\n",
    "import numpy as np\n",
    "\n",
    "from sklearn.linear_model import LogisticRegression\n",
    "from sklearn.model_selection import cross_val_score\n",
    "from sklearn.model_selection import train_test_split\n",
    "from sklearn.preprocessing import LabelEncoder\n",
    "from sklearn.svm import SVC\n",
    "from sklearn.metrics import accuracy_score\n",
    "from sklearn.metrics import f1_score\n",
    "\n",
    "from keras.preprocessing.text import Tokenizer\n",
    "from keras.preprocessing.sequence import pad_sequences\n",
    "from tensorflow.keras.models import Sequential\n",
    "from tensorflow.keras.layers import LSTM,Dense, Dropout, SpatialDropout1D\n",
    "from tensorflow.keras.layers import Embedding\n",
    "from sklearn.metrics import confusion_matrix, classification_report, accuracy_score\n",
    "\n",
    "from mpl_toolkits import mplot3d\n",
    "from mpl_toolkits.mplot3d import Axes3D\n",
    "\n",
    "\n",
    "\n",
    "nltk.download('twitter_samples')\n",
    "\n"
   ]
  },
  {
   "cell_type": "markdown",
   "metadata": {},
   "source": [
    "### 1.1 Preprocessing the data\n",
    "**Stop-Word Removal** : In English, words like a, an, the, as, in, on,\n",
    "etc. are considered as stop-words so according to our requirements\n",
    "we can remove them to reduce vocabulary size as these words don't\n",
    "contribute to the final meaning or sentiment of a sentence.\n",
    "To do this, we import the stopwords list from nltk.\n",
    "\n",
    "Additionally, we need to convert all letters in the string to **lowercase**.\n",
    "This helps reduce unnecessary bloat in the dataset.\n",
    "\n",
    "Next, we **tokenize** the strings: separate all the words in the string into\n",
    "a python list of words.\n",
    "\n",
    "As a final step, we perform stemming: **stemming** refers to the process of\n",
    "removing suffixes and reducing a word to some base form such that all\n",
    "different variants of that word can be represented by the same form\n",
    "(e.g., “walk” and “walking” are both reduced to “walk”)."
   ]
  },
  {
   "cell_type": "code",
   "execution_count": 2,
   "metadata": {
    "pycharm": {
     "name": "#%%\n"
    }
   },
   "outputs": [],
   "source": [
    "#Code taken from A. Mashalkar\n",
    "#Preprocessing tweets\n",
    "def process_tweet(tweet):\n",
    "    \"\"\"\n",
    "    Function to preprocess the tweet according to the steps in 1.1\n",
    "    :param tweet: the tweet to be processed\n",
    "    :return: a tokenized, processed list of words created from the tweet input\n",
    "    \"\"\"\n",
    "    #Remove old style retweet text \"RT\"\n",
    "    cleaned_tweet = re.sub(r'^RT[\\s]', '', tweet)\n",
    "\n",
    "    #Remove URLS\n",
    "    cleaned_tweet = re.sub(r'https?:\\/\\/.*[\\r\\n]*', '', cleaned_tweet)\n",
    "\n",
    "    #Remove hashtags\n",
    "    cleaned_tweet = re.sub(r'#', '', cleaned_tweet)\n",
    "\n",
    "    #convert tweet to lowercase\n",
    "    cleaned_tweet = cleaned_tweet.lower()\n",
    "\n",
    "    #Instantiate tokenizer class\n",
    "    tokenizer = TweetTokenizer(preserve_case=False, strip_handles=True, reduce_len=True)\n",
    "\n",
    "    #Tokenize tweets\n",
    "    tweet_tokens = tokenizer.tokenize(cleaned_tweet)\n",
    "\n",
    "    #Import the english stop words list from nltk\n",
    "    stopwords_english = stopwords.words('english')\n",
    "\n",
    "    #Creating a list of words without stopwords\n",
    "    tweets_clean = []\n",
    "    for word in tweet_tokens:\n",
    "        if word not in stopwords_english and word not in string.punctuation:\n",
    "            tweets_clean.append(word)\n",
    "\n",
    "    #Instantiate stemming class\n",
    "    stemmer = PorterStemmer()\n",
    "\n",
    "    #Creating a list of stems of words in tweet\n",
    "    tweets_stem = []\n",
    "    for word in tweets_clean:\n",
    "        stem_word = stemmer.stem(word)\n",
    "        tweets_stem.append(stem_word)\n",
    "\n",
    "    return tweets_stem"
   ]
  },
  {
   "cell_type": "markdown",
   "metadata": {},
   "source": [
    "### 1.2 Building the Frequency Dictionary\n",
    "\n",
    "Here we define a function that will take as input tweets and their labels\n",
    "as parameters. It will go through every tweet, preprocess them with the\n",
    "function we just defined, count the occurrence of every word in the data\n",
    "set and create a frequency dictionary."
   ]
  },
  {
   "cell_type": "code",
   "execution_count": 3,
   "metadata": {
    "pycharm": {
     "name": "#%%\n"
    }
   },
   "outputs": [],
   "source": [
    "#Code taken from A. Mashalkar\n",
    "#Frequency generating function\n",
    "def build_freqs(tweets, ys):\n",
    "    \"\"\"\n",
    "    Creates a frequency dictionary based on inputs X and labels y.\n",
    "    The dictionary's key will be tuples of the type (word, label)\n",
    "    and its values will be the number of times the word has been found\n",
    "    in a tweet with that label. For example:\n",
    "    {(smile, 1):50} where smile is the word, 1 is the label (positive),\n",
    "    and 50 is the number of times smile was recognized in a positive tweet.\n",
    "    :param tweets: list of tweets to analyze\n",
    "    :param ys: target labels of the tweets input\n",
    "    :return: the frequency dictionary that is built\n",
    "    \"\"\"\n",
    "    yslist = np.squeeze(ys).tolist()  #squeeze is needed or the list\n",
    "    # will end up with one element\n",
    "\n",
    "    freqs = {}\n",
    "    for y, tweet in zip(yslist, tweets):\n",
    "        for word in process_tweet(tweet):\n",
    "            pair = (word, y)\n",
    "            freqs[pair] = freqs.get(pair, 0) + 1\n",
    "\n",
    "    return freqs\n",
    "\n",
    "def extract_features_multi_class(tweet, freqs):\n",
    "    # process_tweet tokenizes, stems, and removes stopwords\n",
    "    word_l = process_tweet(tweet)\n",
    "\n",
    "    # 3 elements in the form of a 1 x 4 vector\n",
    "    x = np.zeros((1, 4))\n",
    "\n",
    "    #bias term is set to 1\n",
    "    x[0,0] = 1\n",
    "\n",
    "    # loop through each word in the list of words\n",
    "    for word in word_l:\n",
    "\n",
    "        # increment the word count for the positive label 1\n",
    "        x[0,1] += freqs.get((word,1),0)\n",
    "\n",
    "        # increment the word count for the negative label 0\n",
    "        x[0,2] += freqs.get((word,0),0)\n",
    "\n",
    "        # increment the word count for the neutral label 2\n",
    "        x[0,3] += freqs.get((word,2),0)\n",
    "\n",
    "    assert(x.shape == (1, 4))\n",
    "    return x"
   ]
  },
  {
   "cell_type": "markdown",
   "metadata": {},
   "source": [
    "Next, let's create a function that will extract features from a tweet\n",
    "through the use of the ‘freqs’ dictionary and the defined process_tweet\n",
    "function from earlier."
   ]
  },
  {
   "cell_type": "code",
   "execution_count": 4,
   "metadata": {
    "pycharm": {
     "name": "#%%\n"
    }
   },
   "outputs": [],
   "source": [
    "#Code taken from A. Mashalkar\n",
    "def extract_features(tweet, freqs):\n",
    "    \"\"\"\n",
    "    Creates a feature vector based off a feature dictionary.\n",
    "    The vector will look like this:\n",
    "    [1, sum of all frequencies of all words as positive sentiment in freqs, sum of all frequencies of all words as negative sentiment in freqs]\n",
    "    :param tweet: a tweet to extract features from\n",
    "    :param freqs: the frequency dictionary\n",
    "    :return: the generated feature vector\n",
    "    \"\"\"\n",
    "    # process_tweet tokenizes, stems, and removes stopwords\n",
    "    word_l = process_tweet(tweet)\n",
    "\n",
    "    # 3 elements in the form of a 1 x 3 vector\n",
    "    x = np.zeros((1, 3))\n",
    "\n",
    "    #bias term is set to 1\n",
    "    x[0, 0] = 1\n",
    "\n",
    "    # loop through each word in the list of words\n",
    "    for word in word_l:\n",
    "        # increment the word count for the positive label 1\n",
    "        x[0, 1] += freqs.get((word, 1), 0)\n",
    "\n",
    "        # increment the word count for the negative label 0\n",
    "        x[0, 2] += freqs.get((word, 0), 0)\n",
    "\n",
    "    assert (x.shape == (1, 3))\n",
    "    return x"
   ]
  },
  {
   "cell_type": "markdown",
   "metadata": {},
   "source": [
    "### 1.3 Downloading nltk's twitter_samples data\n",
    "\n",
    "Continuing, we are importing the sample tweets from nltk and splitting\n",
    "the data into training sets and test sets."
   ]
  },
  {
   "cell_type": "code",
   "execution_count": 5,
   "metadata": {
    "pycharm": {
     "name": "#%%\n"
    }
   },
   "outputs": [
    {
     "name": "stdout",
     "output_type": "stream",
     "text": [
      "all_positive_tweets contains 5000 tweets.\n",
      "all_negative_tweets contains 5000 tweets.\n"
     ]
    }
   ],
   "source": [
    "#Code taken from A. Mashalkar and modified\n",
    "#import dataset from nltk\n",
    "all_positive_tweets = twitter_samples.strings('positive_tweets.json')\n",
    "all_negative_tweets = twitter_samples.strings('negative_tweets.json')\n",
    "print(\"{} contains {} tweets.\".format(\"all_positive_tweets\", len(all_positive_tweets)))\n",
    "print(\"{} contains {} tweets.\".format(\"all_negative_tweets\", len(all_negative_tweets)))\n",
    "\n",
    "#create labels\n",
    "one_array = [1] * len(all_positive_tweets)\n",
    "zero_array = [0] * len(all_negative_tweets)\n",
    "\n",
    "all_tweets = all_positive_tweets + all_negative_tweets\n",
    "all_labels = one_array + zero_array\n",
    "tweets_and_labels = np.vstack((all_tweets, all_labels)).T\n",
    "\n",
    "#extract X (data) and y (labels) columns\n",
    "nltk_X = tweets_and_labels[:, 0].tolist()\n",
    "nltk_y = tweets_and_labels[:, 1].T.astype(int).tolist()\n",
    "\n",
    "#split the data set into train and test sets with a 80/20 ratio\n",
    "nltk_X_train, nltk_X_test, nltk_y_train, nltk_y_test = sklearn.model_selection.train_test_split(nltk_X, nltk_y,\n",
    "                                                                                                test_size=0.20,\n",
    "                                                                                                random_state=0)\n",
    "nltk_y_train = np.array([nltk_y_train]).T\n",
    "nltk_y_test = np.array([nltk_y_test]).T"
   ]
  },
  {
   "cell_type": "markdown",
   "metadata": {},
   "source": [
    "## 1.4 Sigmoid function, cost function, and Gradient Descent\n",
    "\n",
    "With our required functions for processing tweets ready to go, we can begin\n",
    "to build our logistic regression model.\n",
    "\n",
    "The logistic regression maps the input $\\mathbf{x}_i$ into the following\n",
    "output:\n",
    "\n",
    "$p(y_i = 1 \\mid \\mathbf{x}_i, \\mathbf{w}) = \\sigma(\\mathbf{w}^T\\mathbf{x}_i) =  \\sigma(w_0 + w_1 x_1 + w_2 x_2)$.\n",
    "\n",
    "$\\sigma$ is the sigmoid function, that is defined as:\n",
    "\n",
    "$\\sigma(z) = \\frac{1}{1 + e^{-z}} = (1+e^{-z})^{-1}$\n",
    "\n",
    "The output of the sigmoid function is a value between 0 and 1. Let us\n",
    "define the sigmoid function to be used in the model."
   ]
  },
  {
   "cell_type": "code",
   "execution_count": 6,
   "metadata": {
    "pycharm": {
     "name": "#%%\n"
    }
   },
   "outputs": [],
   "source": [
    "#Code from lab assignments\n",
    "def sigmoid(z):\n",
    "    \"\"\"Returns the element-wise logistic sigmoid of z.\"\"\"\n",
    "    # Your code here. Aim for 1 line.\n",
    "    return 1 / (1 + np.exp(-z))"
   ]
  },
  {
   "cell_type": "markdown",
   "metadata": {},
   "source": [
    "Our goal is to find a configuration of our parameters $\\mathbf{w}$ that\n",
    "minimizes our objective function (BCE). For logistic regression, we use\n",
    "the binary cross-entropy loss. Recall from Lecture 1 that the basic\n",
    "logistic regression training objective (learning objective) is:\n",
    "\n",
    "$$\n",
    "\\ell_\\text{LR}(\\mathbf{w}) = \\sum_{i=1}^N y_i \\ln \\sigma(\\mathbf{w}^T \\mathbf{x}_i) + (1-y_i) \\ln \\left(1-\\sigma(\\mathbf{w}^T \\mathbf{x}_i)\\right)\n",
    "$$\n",
    "\n",
    "The \"basic\" gradient for the above training objective is on a slide\n",
    "titled \"Maximum likelihood estimate for LR\" from Lecture 1, and\n",
    "reproduced here:\n",
    "\n",
    "$$\n",
    "\\nabla \\ell_\\text{LR}(\\mathbf{w}) = \\sum_{i=1}^N (\\sigma(\\mathbf{w}^T \\mathbf{x}_i) - y_i)\\mathbf{x}_i\n",
    "$$\n",
    "\n",
    "Let's define a few functions that implement these operations."
   ]
  },
  {
   "cell_type": "code",
   "execution_count": 7,
   "metadata": {
    "pycharm": {
     "name": "#%%\n"
    }
   },
   "outputs": [],
   "source": [
    "#Code taken from A. Mashalkar\n",
    "def gradient_descent(x, y, w, lr, num_iters):\n",
    "    \"\"\"\n",
    "    Logistic regression training loop by gradient descent.\n",
    "    :param x: training data set\n",
    "    :param y: training data labels\n",
    "    :param w: initial weights\n",
    "    :param lr: learning rate\n",
    "    :param num_iters: number of iterations for the training loop\n",
    "    :return: final cost function value and trained weights\n",
    "    \"\"\"\n",
    "    m = len(x)\n",
    "\n",
    "    for i in range(0, num_iters):\n",
    "        z = np.dot(x, w)\n",
    "        h = sigmoid(z)\n",
    "\n",
    "        # calculate the cost function\n",
    "        J = (-1 / m) * (np.dot(y.T, np.log(h)) + np.dot((1 - y).T, np.log(1 - h)))\n",
    "\n",
    "        # update the weights by gradient descent\n",
    "        w = w - (lr / m) * np.dot(x.T, h - y)\n",
    "\n",
    "    J = float(J)\n",
    "    return J, w"
   ]
  },
  {
   "cell_type": "markdown",
   "metadata": {},
   "source": [
    "### 1.5 Training and Testing our Model\n",
    "\n",
    "As all the required functions are ready we can finally train our model\n",
    "using the training set."
   ]
  },
  {
   "cell_type": "code",
   "execution_count": 8,
   "metadata": {
    "pycharm": {
     "is_executing": true,
     "name": "#%%\n"
    }
   },
   "outputs": [
    {
     "name": "stdout",
     "output_type": "stream",
     "text": [
      "The cost function at the end of training is 0.24071649.\n",
      "The resulting vector of weights is [7e-08, 0.00052523, -0.00055603]\n"
     ]
    }
   ],
   "source": [
    "#Code block taken from A. Mashalkar\n",
    "\n",
    "nltk_freqs = build_freqs(nltk_X_train, nltk_y_train)\n",
    "\n",
    "# collect the features 'x' and stack them into a matrix 'X'\n",
    "nltk_X_gd = np.zeros((len(nltk_X_train), 3))\n",
    "for i in range(len(nltk_X_train)):\n",
    "    nltk_X_gd[i, :] = extract_features(nltk_X_train[i], nltk_freqs)\n",
    "\n",
    "# training labels corresponding to X\n",
    "nltk_Y_gd = nltk_y_train\n",
    "\n",
    "# Apply gradient descent to extract the weight vector w\n",
    "nltk_J, nltk_w = gradient_descent(nltk_X_gd, nltk_Y_gd, np.zeros((3, 1)), 1e-9, 1500)\n",
    "print(f\"The cost function at the end of training is {nltk_J:.8f}.\")\n",
    "print(f\"The resulting vector of weights is {[round(t, 8) for t in np.squeeze(nltk_w)]}\")"
   ]
  },
  {
   "cell_type": "markdown",
   "metadata": {},
   "source": [
    "Right above here, we receive and print the final cost J as well as the\n",
    "weight matrix w after all the training is done. This weight matrix\n",
    "constitutes our binary classification based on logistic regression model."
   ]
  },
  {
   "cell_type": "markdown",
   "metadata": {},
   "source": [
    "**Visualizing tweets**\n",
    "\n",
    "We will plot all the tweets in nltk's dataset as vectors in a 2D space.\n",
    "A simple glance at the plot will let you know that the data set is easily\n",
    "linearly separable. We can expect a very high accuracy for this model\n",
    "using logistic regression."
   ]
  },
  {
   "cell_type": "code",
   "execution_count": 9,
   "metadata": {
    "pycharm": {
     "is_executing": true,
     "name": "#%%\n"
    }
   },
   "outputs": [
    {
     "data": {
      "text/plain": [
       "Text(0, 0.5, 'Negative')"
      ]
     },
     "execution_count": 9,
     "metadata": {},
     "output_type": "execute_result"
    },
    {
     "data": {
      "image/png": "[encoded data removed]",
      "text/plain": [
       "<Figure size 720x576 with 1 Axes>"
      ]
     },
     "metadata": {
      "needs_background": "light"
     },
     "output_type": "display_data"
    }
   ],
   "source": [
    "#Code taken from PIYUSH AGNIHOTRI at Kaggle\n",
    "# Plot the samples using columns 1 and 2 of the matrix\n",
    "fig, ax = plt.subplots(figsize = (10, 8))\n",
    "\n",
    "colors = ['red', 'green']\n",
    "\n",
    "# Color based on the sentiment Y\n",
    "ax.scatter(nltk_X_gd[:,1], nltk_X_gd[:,2], c=[colors[int(k)] for k in nltk_Y_gd], s = 0.1)  # Plot a dot for each pair of words\n",
    "plt.xlabel(\"Positive\")\n",
    "plt.ylabel(\"Negative\")"
   ]
  },
  {
   "cell_type": "markdown",
   "metadata": {},
   "source": [
    "Let's proceed to write two more functions which when given a tweet, will\n",
    "predict results using the freqs dictionary and weights matrix. The second\n",
    "function will use the predict function and provide the accuracy of\n",
    "the model on the given testing data set."
   ]
  },
  {
   "cell_type": "code",
   "execution_count": 10,
   "metadata": {
    "pycharm": {
     "is_executing": true,
     "name": "#%%\n"
    }
   },
   "outputs": [],
   "source": [
    "#Code taken from A. Mashalkar\n",
    "def predict_tweet(tweet, freqs, theta):\n",
    "    \"\"\"\n",
    "    Input:\n",
    "        tweet: a string\n",
    "        freqs: a dictionary of the frequencies of each tuple (word, label)\n",
    "        theta: vector of weights\n",
    "    Output:\n",
    "        y_pred: the probability of a tweet being positive or negative\n",
    "    \"\"\"\n",
    "\n",
    "    # extract the features of the tweet and store it into x\n",
    "    x = extract_features(tweet, freqs)\n",
    "\n",
    "    # make the prediction using x and theta\n",
    "    z = np.dot(x, theta)\n",
    "    y_pred = sigmoid(z)\n",
    "    return y_pred\n",
    "\n",
    "#Code taken from A. Mashalkar\n",
    "def test_logistic_regression(X_test, y_test, freqs, theta):\n",
    "    \"\"\"\n",
    "    Input:\n",
    "        X_test: a list of tweets\n",
    "        y_test: vector with the corresponding labels for the list of tweets\n",
    "        freqs: a dictionary of the frequencies of each tuple (word, label)\n",
    "        theta: vector of weights\n",
    "    Output:\n",
    "        accuracy: (# of tweets classified correctly) / (total # of tweets)\n",
    "    \"\"\"\n",
    "\n",
    "    # the list for storing predictions\n",
    "    y_hat = []\n",
    "\n",
    "    for tweet in X_test:\n",
    "        # get the label prediction for the tweet\n",
    "        y_pred = predict_tweet(tweet, freqs, theta)\n",
    "\n",
    "        if y_pred > 0.5:\n",
    "            # append 1.0 to the list\n",
    "            y_hat.append(1)\n",
    "        else:\n",
    "            # append 0 to the list\n",
    "            y_hat.append(0)\n",
    "    # With the above implementation, y_hat is a list, but test_y is a\n",
    "    # (m,1) array\n",
    "    # convert both to one-dimensional arrays in order to compare them\n",
    "    # using the '==' operator\n",
    "    y_hat = np.array(y_hat)\n",
    "    test_y = y_test.reshape(-1)\n",
    "    accuracy = np.sum((test_y == y_hat).astype(int)) / len(X_test)\n",
    "\n",
    "    return accuracy"
   ]
  },
  {
   "cell_type": "markdown",
   "metadata": {},
   "source": [
    "With all the required functions defined, we can proceed to try out our\n",
    "model and look at the output."
   ]
  },
  {
   "cell_type": "code",
   "execution_count": 11,
   "metadata": {
    "pycharm": {
     "is_executing": true,
     "name": "#%%\n"
    }
   },
   "outputs": [
    {
     "name": "stdout",
     "output_type": "stream",
     "text": [
      "The accuracy on the test set is 99.35000000000001%\n"
     ]
    }
   ],
   "source": [
    "acc = test_logistic_regression(nltk_X_test, nltk_y_test, nltk_freqs, nltk_w)\n",
    "\n",
    "print(\"The accuracy on the test set is {}%\".format(acc * 100))"
   ]
  },
  {
   "cell_type": "markdown",
   "metadata": {},
   "source": [
    "We have obtained a pretty high accuracy (higher than 99.0% as expected)\n",
    "with the trained model. Let's formulate a few sentences and see what the\n",
    "model predicts out of them."
   ]
  },
  {
   "cell_type": "code",
   "execution_count": 12,
   "metadata": {
    "pycharm": {
     "is_executing": true,
     "name": "#%%\n"
    }
   },
   "outputs": [
    {
     "name": "stdout",
     "output_type": "stream",
     "text": [
      "This tweet is negative\n",
      "This tweet is positive\n",
      "This tweet is positive\n"
     ]
    }
   ],
   "source": [
    "#Toy test set to evaluate the performance of our models\n",
    "\n",
    "tweet = \"I hate insta so much everyone is nicer on here\"\n",
    "prediction = predict_tweet(tweet, nltk_freqs, nltk_w)\n",
    "print(\"This tweet is positive\" if prediction >= 0.5 else \"This tweet is negative\")\n",
    "\n",
    "tweet = \"Everyday is my favorite, waking up one more day makes each day awesome\"\n",
    "prediction = predict_tweet(tweet, nltk_freqs, nltk_w)\n",
    "print(\"This tweet is positive\" if prediction >= 0.5 else \"This tweet is negative\")\n",
    "\n",
    "tweet = \"Checking the box full of ole' photos is always fun!\"\n",
    "prediction = predict_tweet(tweet, nltk_freqs, nltk_w)\n",
    "print(\"This tweet is positive\" if prediction >= 0.5 else \"This tweet is negative\")"
   ]
  },
  {
   "cell_type": "markdown",
   "metadata": {},
   "source": [
    "### 1.6 Twitter US Airline's Sentiment Dataset\n",
    "\n",
    "Let's continue exploring the model by training it using another popular data\n",
    "set. The data set in question is \"Twitter US Airline Sentiment\" (retrieved\n",
    "from https://www.kaggle.com/datasets/crowdflower/twitter-airline-sentiment?resource=download ).\n",
    "For the ease of use we have included the data set already\n",
    "within the repository. If it is missing from your directory, make sure\n",
    "to visit the link and download it. Let's do a few lines of code to\n",
    "import and preview the data in the files."
   ]
  },
  {
   "cell_type": "code",
   "execution_count": 13,
   "metadata": {
    "pycharm": {
     "is_executing": true,
     "name": "#%%\n"
    }
   },
   "outputs": [
    {
     "name": "stdout",
     "output_type": "stream",
     "text": [
      "(14640, 15)\n"
     ]
    },
    {
     "data": {
      "text/html": [
       "<div>\n",
       "<style scoped>\n",
       "    .dataframe tbody tr th:only-of-type {\n",
       "        vertical-align: middle;\n",
       "    }\n",
       "\n",
       "    .dataframe tbody tr th {\n",
       "        vertical-align: top;\n",
       "    }\n",
       "\n",
       "    .dataframe thead th {\n",
       "        text-align: right;\n",
       "    }\n",
       "</style>\n",
       "<table border=\"1\" class=\"dataframe\">\n",
       "  <thead>\n",
       "    <tr style=\"text-align: right;\">\n",
       "      <th></th>\n",
       "      <th>tweet_id</th>\n",
       "      <th>airline_sentiment</th>\n",
       "      <th>airline_sentiment_confidence</th>\n",
       "      <th>negativereason</th>\n",
       "      <th>negativereason_confidence</th>\n",
       "      <th>airline</th>\n",
       "      <th>airline_sentiment_gold</th>\n",
       "      <th>name</th>\n",
       "      <th>negativereason_gold</th>\n",
       "      <th>retweet_count</th>\n",
       "      <th>text</th>\n",
       "      <th>tweet_coord</th>\n",
       "      <th>tweet_created</th>\n",
       "      <th>tweet_location</th>\n",
       "      <th>user_timezone</th>\n",
       "    </tr>\n",
       "  </thead>\n",
       "  <tbody>\n",
       "    <tr>\n",
       "      <th>0</th>\n",
       "      <td>570306133677760513</td>\n",
       "      <td>neutral</td>\n",
       "      <td>1.0000</td>\n",
       "      <td>NaN</td>\n",
       "      <td>NaN</td>\n",
       "      <td>Virgin America</td>\n",
       "      <td>NaN</td>\n",
       "      <td>cairdin</td>\n",
       "      <td>NaN</td>\n",
       "      <td>0</td>\n",
       "      <td>@VirginAmerica What @dhepburn said.</td>\n",
       "      <td>NaN</td>\n",
       "      <td>2015-02-24 11:35:52 -0800</td>\n",
       "      <td>NaN</td>\n",
       "      <td>Eastern Time (US &amp; Canada)</td>\n",
       "    </tr>\n",
       "    <tr>\n",
       "      <th>1</th>\n",
       "      <td>570301130888122368</td>\n",
       "      <td>positive</td>\n",
       "      <td>0.3486</td>\n",
       "      <td>NaN</td>\n",
       "      <td>0.0000</td>\n",
       "      <td>Virgin America</td>\n",
       "      <td>NaN</td>\n",
       "      <td>jnardino</td>\n",
       "      <td>NaN</td>\n",
       "      <td>0</td>\n",
       "      <td>@VirginAmerica plus you've added commercials t...</td>\n",
       "      <td>NaN</td>\n",
       "      <td>2015-02-24 11:15:59 -0800</td>\n",
       "      <td>NaN</td>\n",
       "      <td>Pacific Time (US &amp; Canada)</td>\n",
       "    </tr>\n",
       "    <tr>\n",
       "      <th>2</th>\n",
       "      <td>570301083672813571</td>\n",
       "      <td>neutral</td>\n",
       "      <td>0.6837</td>\n",
       "      <td>NaN</td>\n",
       "      <td>NaN</td>\n",
       "      <td>Virgin America</td>\n",
       "      <td>NaN</td>\n",
       "      <td>yvonnalynn</td>\n",
       "      <td>NaN</td>\n",
       "      <td>0</td>\n",
       "      <td>@VirginAmerica I didn't today... Must mean I n...</td>\n",
       "      <td>NaN</td>\n",
       "      <td>2015-02-24 11:15:48 -0800</td>\n",
       "      <td>Lets Play</td>\n",
       "      <td>Central Time (US &amp; Canada)</td>\n",
       "    </tr>\n",
       "    <tr>\n",
       "      <th>3</th>\n",
       "      <td>570301031407624196</td>\n",
       "      <td>negative</td>\n",
       "      <td>1.0000</td>\n",
       "      <td>Bad Flight</td>\n",
       "      <td>0.7033</td>\n",
       "      <td>Virgin America</td>\n",
       "      <td>NaN</td>\n",
       "      <td>jnardino</td>\n",
       "      <td>NaN</td>\n",
       "      <td>0</td>\n",
       "      <td>@VirginAmerica it's really aggressive to blast...</td>\n",
       "      <td>NaN</td>\n",
       "      <td>2015-02-24 11:15:36 -0800</td>\n",
       "      <td>NaN</td>\n",
       "      <td>Pacific Time (US &amp; Canada)</td>\n",
       "    </tr>\n",
       "    <tr>\n",
       "      <th>4</th>\n",
       "      <td>570300817074462722</td>\n",
       "      <td>negative</td>\n",
       "      <td>1.0000</td>\n",
       "      <td>Can't Tell</td>\n",
       "      <td>1.0000</td>\n",
       "      <td>Virgin America</td>\n",
       "      <td>NaN</td>\n",
       "      <td>jnardino</td>\n",
       "      <td>NaN</td>\n",
       "      <td>0</td>\n",
       "      <td>@VirginAmerica and it's a really big bad thing...</td>\n",
       "      <td>NaN</td>\n",
       "      <td>2015-02-24 11:14:45 -0800</td>\n",
       "      <td>NaN</td>\n",
       "      <td>Pacific Time (US &amp; Canada)</td>\n",
       "    </tr>\n",
       "  </tbody>\n",
       "</table>\n",
       "</div>"
      ],
      "text/plain": [
       "             tweet_id airline_sentiment  airline_sentiment_confidence  \\\n",
       "0  570306133677760513           neutral                        1.0000   \n",
       "1  570301130888122368          positive                        0.3486   \n",
       "2  570301083672813571           neutral                        0.6837   \n",
       "3  570301031407624196          negative                        1.0000   \n",
       "4  570300817074462722          negative                        1.0000   \n",
       "\n",
       "  negativereason  negativereason_confidence         airline  \\\n",
       "0            NaN                        NaN  Virgin America   \n",
       "1            NaN                     0.0000  Virgin America   \n",
       "2            NaN                        NaN  Virgin America   \n",
       "3     Bad Flight                     0.7033  Virgin America   \n",
       "4     Can't Tell                     1.0000  Virgin America   \n",
       "\n",
       "  airline_sentiment_gold        name negativereason_gold  retweet_count  \\\n",
       "0                    NaN     cairdin                 NaN              0   \n",
       "1                    NaN    jnardino                 NaN              0   \n",
       "2                    NaN  yvonnalynn                 NaN              0   \n",
       "3                    NaN    jnardino                 NaN              0   \n",
       "4                    NaN    jnardino                 NaN              0   \n",
       "\n",
       "                                                text tweet_coord  \\\n",
       "0                @VirginAmerica What @dhepburn said.         NaN   \n",
       "1  @VirginAmerica plus you've added commercials t...         NaN   \n",
       "2  @VirginAmerica I didn't today... Must mean I n...         NaN   \n",
       "3  @VirginAmerica it's really aggressive to blast...         NaN   \n",
       "4  @VirginAmerica and it's a really big bad thing...         NaN   \n",
       "\n",
       "               tweet_created tweet_location               user_timezone  \n",
       "0  2015-02-24 11:35:52 -0800            NaN  Eastern Time (US & Canada)  \n",
       "1  2015-02-24 11:15:59 -0800            NaN  Pacific Time (US & Canada)  \n",
       "2  2015-02-24 11:15:48 -0800      Lets Play  Central Time (US & Canada)  \n",
       "3  2015-02-24 11:15:36 -0800            NaN  Pacific Time (US & Canada)  \n",
       "4  2015-02-24 11:14:45 -0800            NaN  Pacific Time (US & Canada)  "
      ]
     },
     "execution_count": 13,
     "metadata": {},
     "output_type": "execute_result"
    }
   ],
   "source": [
    "#Code taken from Kaggle users\n",
    "df = pd.read_csv('Tweets.csv')\n",
    "print(df.shape)\n",
    "df.head()"
   ]
  },
  {
   "cell_type": "markdown",
   "metadata": {},
   "source": [
    "Unlike our previous data set, this one contains more columns which we might\n",
    "not need. It is our job to process the data to make it fit the model\n",
    "defined above. However, do observe that there is one more sentiment in the\n",
    "labels: the neutral label."
   ]
  },
  {
   "cell_type": "code",
   "execution_count": 14,
   "metadata": {
    "pycharm": {
     "is_executing": true,
     "name": "#%%\n"
    }
   },
   "outputs": [
    {
     "name": "stdout",
     "output_type": "stream",
     "text": [
      "negative    9178\n",
      "neutral     3099\n",
      "positive    2363\n",
      "Name: airline_sentiment, dtype: int64\n"
     ]
    },
    {
     "data": {
      "image/png": "[encoded data removed]",
      "text/plain": [
       "<Figure size 720x576 with 1 Axes>"
      ]
     },
     "metadata": {
      "needs_background": "light"
     },
     "output_type": "display_data"
    }
   ],
   "source": [
    "#Code taken from Kaggle users\n",
    "print(df.airline_sentiment.value_counts())\n",
    "plt.figure(figsize=(10, 8))\n",
    "ax = sns.countplot(x='airline_sentiment', data=df, palette='pastel')\n",
    "ax.set_title(label='Total number of sentiments of tweets', fontsize=20)\n",
    "plt.show()"
   ]
  },
  {
   "cell_type": "markdown",
   "metadata": {},
   "source": [
    "Let's define a few functions that will help us with the text processing.\n",
    "Remember, currently we are working with binary classification of positive\n",
    "and negative sentiments. For this reason, we will be discarding all neutral\n",
    "labels and their corresponding data."
   ]
  },
  {
   "cell_type": "code",
   "execution_count": 15,
   "metadata": {
    "pycharm": {
     "is_executing": true,
     "name": "#%%\n"
    }
   },
   "outputs": [
    {
     "name": "stdout",
     "output_type": "stream",
     "text": [
      "negative    9178\n",
      "positive    2363\n",
      "Name: airline_sentiment, dtype: int64\n"
     ]
    }
   ],
   "source": [
    "#remove all neutral-labeled data\n",
    "df = df[df.airline_sentiment != \"neutral\"]\n",
    "print(df.airline_sentiment.value_counts())\n"
   ]
  },
  {
   "cell_type": "markdown",
   "metadata": {},
   "source": [
    "Next, we should convert the sentiments into numerical values."
   ]
  },
  {
   "cell_type": "code",
   "execution_count": 16,
   "metadata": {
    "pycharm": {
     "is_executing": true,
     "name": "#%%\n"
    }
   },
   "outputs": [
    {
     "name": "stdout",
     "output_type": "stream",
     "text": [
      "1        1\n",
      "3        0\n",
      "4        0\n",
      "5        0\n",
      "6        1\n",
      "        ..\n",
      "14633    0\n",
      "14634    0\n",
      "14635    1\n",
      "14636    0\n",
      "14638    0\n",
      "Name: airline_sentiment, Length: 11541, dtype: int64\n"
     ]
    }
   ],
   "source": [
    "#Code taken from Kaggle users\n",
    "# convert sentiments to 0 or 1\n",
    "def convert_sentiment(sentiment):\n",
    "    if sentiment == \"positive\":\n",
    "        return 1\n",
    "    elif sentiment == \"negative\":\n",
    "        return 0\n",
    "\n",
    "\n",
    "df.airline_sentiment = df.airline_sentiment.apply(lambda x: convert_sentiment(x))\n",
    "print(df.airline_sentiment)"
   ]
  },
  {
   "cell_type": "markdown",
   "metadata": {},
   "source": [
    "One final step, we will extract each tweet text from the data and their\n",
    "respective labels. We also need to split the data into training and test\n",
    "sets as we did before."
   ]
  },
  {
   "cell_type": "code",
   "execution_count": 17,
   "metadata": {
    "pycharm": {
     "is_executing": true,
     "name": "#%%\n"
    }
   },
   "outputs": [],
   "source": [
    "#extract columns in the csv file as rows\n",
    "airline_X = df['text'].tolist()\n",
    "airline_y = df['airline_sentiment'].tolist()\n",
    "\n",
    "#split into 80:20 train to test ratio\n",
    "airline_X_train, airline_X_test, airline_y_train, airline_y_test = sklearn.model_selection.train_test_split(airline_X,\n",
    "                                                                                                            airline_y,\n",
    "                                                                                                            test_size=0.20,\n",
    "                                                                                                            random_state=0)\n",
    "airline_y_train = np.array([airline_y_train]).T.astype(float)\n",
    "airline_y_test = np.array([airline_y_test]).T.astype(float)"
   ]
  },
  {
   "cell_type": "markdown",
   "metadata": {},
   "source": [
    "The data has now undergone transformation and is ready to be handled by\n",
    "our previously defined functions. We simply have to repeat the code\n",
    "sections written out before but now using the airline data set."
   ]
  },
  {
   "cell_type": "code",
   "execution_count": 18,
   "metadata": {
    "pycharm": {
     "is_executing": true,
     "name": "#%%\n"
    }
   },
   "outputs": [
    {
     "name": "stdout",
     "output_type": "stream",
     "text": [
      "The cost function at the end of training is 0.48646059.\n",
      "The resulting vector of weights is [-2e-07, 1.937e-05, -0.00045547]\n",
      "The accuracy on the test set is 79.64486790818536%\n"
     ]
    },
    {
     "data": {
      "image/png": "[encoded data removed]",
      "text/plain": [
       "<Figure size 720x576 with 1 Axes>"
      ]
     },
     "metadata": {
      "needs_background": "light"
     },
     "output_type": "display_data"
    }
   ],
   "source": [
    "#Code taken from A. Mashalkar and modified\n",
    "\n",
    "airline_freqs = build_freqs(airline_X_train, airline_y_train)\n",
    "\n",
    "# collect the features 'x' and stack them into a matrix 'X'\n",
    "airline_X_gd = np.zeros((len(airline_X_train), 3))\n",
    "for i in range(len(airline_X_train)):\n",
    "    airline_X_gd[i, :] = extract_features(airline_X_train[i], airline_freqs)\n",
    "\n",
    "# training labels corresponding to X\n",
    "airline_Y_gd = airline_y_train\n",
    "\n",
    "#Code taken from PIYUSH AGNIHOTRI at Kaggle\n",
    "# Plot the samples using columns 1 and 2 of the matrix\n",
    "fig, ax = plt.subplots(figsize = (10, 8))\n",
    "\n",
    "colors = ['red', 'green']\n",
    "\n",
    "# Color based on the sentiment Y\n",
    "ax.scatter(airline_X_gd[:,1], airline_X_gd[:,2], c=[colors[int(k)] for k in airline_Y_gd], s = 0.1)  # Plot a dot for each pair of words\n",
    "plt.xlabel(\"Positive\")\n",
    "plt.ylabel(\"Negative\")\n",
    "\n",
    "# Apply gradient descent to extract the weight vector w\n",
    "airline_J, airline_w = gradient_descent(airline_X_gd, airline_Y_gd, np.zeros((3, 1)), 1e-9, 1500)\n",
    "print(f\"The cost function at the end of training is {airline_J:.8f}.\")\n",
    "print(f\"The resulting vector of weights is {[round(t, 8) for t in np.squeeze(airline_w)]}\")\n",
    "\n",
    "airline_acc = test_logistic_regression(airline_X_test, airline_y_test, airline_freqs, airline_w)\n",
    "\n",
    "print(\"The accuracy on the test set is {}%\".format(airline_acc * 100))"
   ]
  },
  {
   "cell_type": "markdown",
   "metadata": {},
   "source": [
    "The resulting accuracy of the model trained on the airline sentiment\n",
    "data seems lower than the model trained on nltk's tweets sentiments.\n",
    "This is to be discussed in our report submission.\n",
    "\n",
    "### 1.7 Combining nltk's Dataset with Twitter US Airline Sentiment Analysis's Dataset\n",
    "\n",
    "As a final experiment, I would like to repeat the training and testing\n",
    "of our model, but this time with both data sets combined. Let's do a\n",
    "little processing of the data to achieve this objective."
   ]
  },
  {
   "cell_type": "code",
   "execution_count": 19,
   "metadata": {
    "pycharm": {
     "is_executing": true,
     "name": "#%%\n"
    }
   },
   "outputs": [],
   "source": [
    "#combine both list of tweets into one data set\n",
    "combined_X = airline_X + nltk_X\n",
    "combined_y = airline_y + nltk_y\n",
    "\n",
    "#split into 80:20 train to test ratio\n",
    "combined_X_train, combined_X_test, combined_y_train, combined_y_test = sklearn.model_selection.train_test_split(\n",
    "    combined_X, combined_y, test_size=0.20, random_state=0)\n",
    "combined_y_train = np.array([combined_y_train]).T.astype(float)\n",
    "combined_y_test = np.array([combined_y_test]).T.astype(float)"
   ]
  },
  {
   "cell_type": "markdown",
   "metadata": {},
   "source": [
    "The data is now ready to go through the training loops and testing outputs."
   ]
  },
  {
   "cell_type": "code",
   "execution_count": 20,
   "metadata": {
    "pycharm": {
     "is_executing": true,
     "name": "#%%\n"
    }
   },
   "outputs": [
    {
     "name": "stdout",
     "output_type": "stream",
     "text": [
      "The cost function at the end of training is 0.38524755.\n",
      "The resulting vector of weights is [-4e-08, 0.00036247, -0.0004816]\n",
      "The accuracy on the test set is 89.71919238802506%\n"
     ]
    },
    {
     "data": {
      "image/png": "[encoded data removed]",
      "text/plain": [
       "<Figure size 720x576 with 1 Axes>"
      ]
     },
     "metadata": {
      "needs_background": "light"
     },
     "output_type": "display_data"
    }
   ],
   "source": [
    "#Code taken from A. Mashalkar and modified\n",
    "\n",
    "combined_freqs = build_freqs(combined_X_train, combined_y_train)\n",
    "\n",
    "# collect the features 'x' and stack them into a matrix 'X'\n",
    "combined_X_gd = np.zeros((len(combined_X_train), 3))\n",
    "for i in range(len(combined_X_train)):\n",
    "    combined_X_gd[i, :] = extract_features(combined_X_train[i], combined_freqs)\n",
    "\n",
    "# training labels corresponding to X\n",
    "combined_Y_gd = combined_y_train\n",
    "\n",
    "# Apply gradient descent to extract the weight vector w\n",
    "combined_J, combined_w = gradient_descent(combined_X_gd, combined_Y_gd, np.zeros((3, 1)), 1e-9, 1500)\n",
    "print(f\"The cost function at the end of training is {combined_J:.8f}.\")\n",
    "print(f\"The resulting vector of weights is {[round(t, 8) for t in np.squeeze(combined_w)]}\")\n",
    "\n",
    "#Code taken from PIYUSH AGNIHOTRI at Kaggle\n",
    "# Plot the samples using columns 1 and 2 of the matrix\n",
    "fig, ax = plt.subplots(figsize = (10, 8))\n",
    "\n",
    "colors = ['red', 'green']\n",
    "\n",
    "# Color based on the sentiment Y\n",
    "ax.scatter(combined_X_gd[:,1], combined_X_gd[:,2], c=[colors[int(k)] for k in combined_Y_gd], s = 0.1)  # Plot a dot for each pair of words\n",
    "plt.xlabel(\"Positive\")\n",
    "plt.ylabel(\"Negative\")\n",
    "\n",
    "combined_acc = test_logistic_regression(combined_X_test, combined_y_test, combined_freqs, combined_w)\n",
    "\n",
    "print(\"The accuracy on the test set is {}%\".format(combined_acc * 100))"
   ]
  },
  {
   "cell_type": "markdown",
   "metadata": {},
   "source": [
    "The accuracy on this model appears to be lower than that trained solely\n",
    "on nltk's sentiment data set, but shows to be higher than that trained\n",
    "on the airline sentiment data set. We will discuss this in detail in the\n",
    "written reports as well.\n",
    "\n",
    "### 1.8 Training the model by carrying over the weight vector\n",
    "\n",
    "In our previous three experiments, we conducted the training on\n",
    "a clean slate by initializing the weights vectors to zero. What\n",
    "would happen if we were to train our binary classification model\n",
    "on one data set and pass the resulting weight vector as the\n",
    "initial weight vector for the second data set? Let's take a\n",
    "look!"
   ]
  },
  {
   "cell_type": "code",
   "execution_count": 21,
   "metadata": {
    "pycharm": {
     "is_executing": true,
     "name": "#%%\n"
    }
   },
   "outputs": [
    {
     "name": "stdout",
     "output_type": "stream",
     "text": [
      "The cost function at the end of training is 0.44955847.\n",
      "The resulting vector of weights is [-3e-08, 0.0005846, -0.00064061]\n"
     ]
    }
   ],
   "source": [
    "#Code taken from A. Mashalkar and modified\n",
    "\n",
    "# Apply gradient descent to extract the weight vector w\n",
    "shared_w_J, shared_w_w = gradient_descent(airline_X_gd, airline_Y_gd, nltk_w, 1e-9, 1500)\n",
    "print(f\"The cost function at the end of training is {shared_w_J:.8f}.\")\n",
    "print(f\"The resulting vector of weights is {[round(t, 8) for t in np.squeeze(shared_w_w)]}\")"
   ]
  },
  {
   "cell_type": "markdown",
   "metadata": {},
   "source": [
    "Because the model has already been trained on both data sets,\n",
    "we are testing it against the combined set's test set."
   ]
  },
  {
   "cell_type": "code",
   "execution_count": 22,
   "metadata": {
    "pycharm": {
     "is_executing": true,
     "name": "#%%\n"
    }
   },
   "outputs": [
    {
     "name": "stdout",
     "output_type": "stream",
     "text": [
      "The accuracy on the test set is 90.80993269900209%\n"
     ]
    }
   ],
   "source": [
    "shared_w_acc = test_logistic_regression(combined_X_test, combined_y_test, combined_freqs, shared_w_w)\n",
    "\n",
    "print(\"The accuracy on the test set is {}%\".format(shared_w_acc * 100))"
   ]
  },
  {
   "cell_type": "markdown",
   "metadata": {},
   "source": [
    "The results are close enough to that of the combined data set's model's\n",
    "results. As usual, we will discuss the significance of this output\n",
    "inside the written report.\n",
    "\n",
    "### 1.9 Introducing one more dataset: Sentiment140\n",
    "\n",
    "The sentiment140 dataset contains 1,600,000 tweets extracted using the\n",
    "Twitter API (retrieved from https://www.kaggle.com/datasets/kazanova/sentiment140 ).\n",
    "Do note that this data set is not included in the repository. You will need\n",
    "to visit the link and download it by yourself.\n",
    "This means we are dealing with tweets once more! The tweets\n",
    "have been labeled (0 for negative, 2 for neutral, 4 for positive)."
   ]
  },
  {
   "cell_type": "code",
   "execution_count": 23,
   "metadata": {
    "pycharm": {
     "is_executing": true,
     "name": "#%%\n"
    }
   },
   "outputs": [
    {
     "name": "stdout",
     "output_type": "stream",
     "text": [
      "(1600000, 6)\n"
     ]
    },
    {
     "data": {
      "text/html": [
       "<div>\n",
       "<style scoped>\n",
       "    .dataframe tbody tr th:only-of-type {\n",
       "        vertical-align: middle;\n",
       "    }\n",
       "\n",
       "    .dataframe tbody tr th {\n",
       "        vertical-align: top;\n",
       "    }\n",
       "\n",
       "    .dataframe thead th {\n",
       "        text-align: right;\n",
       "    }\n",
       "</style>\n",
       "<table border=\"1\" class=\"dataframe\">\n",
       "  <thead>\n",
       "    <tr style=\"text-align: right;\">\n",
       "      <th></th>\n",
       "      <th>target</th>\n",
       "      <th>id</th>\n",
       "      <th>date</th>\n",
       "      <th>flag</th>\n",
       "      <th>user</th>\n",
       "      <th>text</th>\n",
       "    </tr>\n",
       "  </thead>\n",
       "  <tbody>\n",
       "    <tr>\n",
       "      <th>0</th>\n",
       "      <td>0</td>\n",
       "      <td>1467810369</td>\n",
       "      <td>Mon Apr 06 22:19:45 PDT 2009</td>\n",
       "      <td>NO_QUERY</td>\n",
       "      <td>_TheSpecialOne_</td>\n",
       "      <td>@switchfoot http://twitpic.com/2y1zl - Awww, t...</td>\n",
       "    </tr>\n",
       "    <tr>\n",
       "      <th>1</th>\n",
       "      <td>0</td>\n",
       "      <td>1467810672</td>\n",
       "      <td>Mon Apr 06 22:19:49 PDT 2009</td>\n",
       "      <td>NO_QUERY</td>\n",
       "      <td>scotthamilton</td>\n",
       "      <td>is upset that he can't update his Facebook by ...</td>\n",
       "    </tr>\n",
       "    <tr>\n",
       "      <th>2</th>\n",
       "      <td>0</td>\n",
       "      <td>1467810917</td>\n",
       "      <td>Mon Apr 06 22:19:53 PDT 2009</td>\n",
       "      <td>NO_QUERY</td>\n",
       "      <td>mattycus</td>\n",
       "      <td>@Kenichan I dived many times for the ball. Man...</td>\n",
       "    </tr>\n",
       "    <tr>\n",
       "      <th>3</th>\n",
       "      <td>0</td>\n",
       "      <td>1467811184</td>\n",
       "      <td>Mon Apr 06 22:19:57 PDT 2009</td>\n",
       "      <td>NO_QUERY</td>\n",
       "      <td>ElleCTF</td>\n",
       "      <td>my whole body feels itchy and like its on fire</td>\n",
       "    </tr>\n",
       "    <tr>\n",
       "      <th>4</th>\n",
       "      <td>0</td>\n",
       "      <td>1467811193</td>\n",
       "      <td>Mon Apr 06 22:19:57 PDT 2009</td>\n",
       "      <td>NO_QUERY</td>\n",
       "      <td>Karoli</td>\n",
       "      <td>@nationwideclass no, it's not behaving at all....</td>\n",
       "    </tr>\n",
       "  </tbody>\n",
       "</table>\n",
       "</div>"
      ],
      "text/plain": [
       "   target          id                          date      flag  \\\n",
       "0       0  1467810369  Mon Apr 06 22:19:45 PDT 2009  NO_QUERY   \n",
       "1       0  1467810672  Mon Apr 06 22:19:49 PDT 2009  NO_QUERY   \n",
       "2       0  1467810917  Mon Apr 06 22:19:53 PDT 2009  NO_QUERY   \n",
       "3       0  1467811184  Mon Apr 06 22:19:57 PDT 2009  NO_QUERY   \n",
       "4       0  1467811193  Mon Apr 06 22:19:57 PDT 2009  NO_QUERY   \n",
       "\n",
       "              user                                               text  \n",
       "0  _TheSpecialOne_  @switchfoot http://twitpic.com/2y1zl - Awww, t...  \n",
       "1    scotthamilton  is upset that he can't update his Facebook by ...  \n",
       "2         mattycus  @Kenichan I dived many times for the ball. Man...  \n",
       "3          ElleCTF    my whole body feels itchy and like its on fire   \n",
       "4           Karoli  @nationwideclass no, it's not behaving at all....  "
      ]
     },
     "execution_count": 23,
     "metadata": {},
     "output_type": "execute_result"
    }
   ],
   "source": [
    "#Code taken from Kaggle users\n",
    "\n",
    "df_sentiment140 = pd.read_csv('training.1600000.processed.noemoticon.csv', encoding='latin-1', header=None)\n",
    "df_sentiment140.columns = [\"target\", \"id\", \"date\", \"flag\", \"user\", \"text\"]\n",
    "print(df_sentiment140.shape)\n",
    "df_sentiment140.head()\n"
   ]
  },
  {
   "cell_type": "markdown",
   "metadata": {},
   "source": [
    "This dataset is actually over 200 MB in file size and way too large to\n",
    "comfortably work with on a low-end computer. We will only work with\n",
    "about one-fifth of the data, shuffled with a constant random_state variable so\n",
    "that it is reproducible every time."
   ]
  },
  {
   "cell_type": "code",
   "execution_count": 24,
   "metadata": {
    "pycharm": {
     "is_executing": true,
     "name": "#%%\n"
    }
   },
   "outputs": [
    {
     "data": {
      "text/plain": [
       "4    100189\n",
       "0     99810\n",
       "Name: target, dtype: int64"
      ]
     },
     "execution_count": 24,
     "metadata": {},
     "output_type": "execute_result"
    }
   ],
   "source": [
    "#Code taken from Kaggle users\n",
    "\n",
    "df_sentiment140 = shuffle(df_sentiment140, random_state=0)\n",
    "df_sentiment140 = df_sentiment140[1:200000]\n",
    "df_sentiment140['target'].value_counts()"
   ]
  },
  {
   "cell_type": "markdown",
   "metadata": {},
   "source": [
    "Like the airline sentiment data set, this one contains some columns which\n",
    "we might not need. We will once again have to preprocess the data. The\n",
    "neutral label is also present and will have to be ignored."
   ]
  },
  {
   "cell_type": "code",
   "execution_count": 25,
   "metadata": {
    "pycharm": {
     "is_executing": true,
     "name": "#%%\n"
    }
   },
   "outputs": [
    {
     "name": "stdout",
     "output_type": "stream",
     "text": [
      "4    100189\n",
      "0     99810\n",
      "Name: target, dtype: int64\n"
     ]
    },
    {
     "data": {
      "image/png": "[encoded data removed]",
      "text/plain": [
       "<Figure size 720x576 with 1 Axes>"
      ]
     },
     "metadata": {
      "needs_background": "light"
     },
     "output_type": "display_data"
    }
   ],
   "source": [
    "#Code taken from Kaggle users\n",
    "\n",
    "print(df_sentiment140.target.value_counts())\n",
    "plt.figure(figsize=(10, 8))\n",
    "ax = sns.countplot(x='target', data=df_sentiment140, palette='pastel')\n",
    "ax.set_title(label='Total number of sentiments of tweets', fontsize=20)\n",
    "plt.show()"
   ]
  },
  {
   "cell_type": "code",
   "execution_count": 26,
   "metadata": {
    "pycharm": {
     "is_executing": true,
     "name": "#%%\n"
    }
   },
   "outputs": [
    {
     "name": "stdout",
     "output_type": "stream",
     "text": [
      "4    100189\n",
      "0     99810\n",
      "Name: target, dtype: int64\n"
     ]
    }
   ],
   "source": [
    "#remove all neutral-labeled data\n",
    "df_sentiment140 = df_sentiment140[df_sentiment140.target != 2]\n",
    "print(df_sentiment140.target.value_counts())\n"
   ]
  },
  {
   "cell_type": "markdown",
   "metadata": {},
   "source": [
    "Next, we should convert the sentiments into numerical values."
   ]
  },
  {
   "cell_type": "code",
   "execution_count": 27,
   "metadata": {
    "pycharm": {
     "is_executing": true,
     "name": "#%%\n"
    }
   },
   "outputs": [
    {
     "name": "stdout",
     "output_type": "stream",
     "text": [
      "349381     0\n",
      "182051     0\n",
      "571236     0\n",
      "1339637    1\n",
      "758738     0\n",
      "          ..\n",
      "540329     0\n",
      "110476     0\n",
      "1515094    1\n",
      "578720     0\n",
      "93321      0\n",
      "Name: target, Length: 199999, dtype: int64\n"
     ]
    }
   ],
   "source": [
    "#Code taken from Kaggle users\n",
    "# convert sentiments to 0 or 1\n",
    "def convert_sentiment_140(sentiment):\n",
    "    if sentiment == 4:\n",
    "        return 1\n",
    "    elif sentiment == 0:\n",
    "        return 0\n",
    "\n",
    "\n",
    "df_sentiment140.target = df_sentiment140.target.apply(lambda x: convert_sentiment_140(x))\n",
    "print(df_sentiment140.target)"
   ]
  },
  {
   "cell_type": "markdown",
   "metadata": {},
   "source": [
    "Once again, we need to extract the data and their corresponding labels. \n",
    "We also need to split the data into training and test sets as we did before."
   ]
  },
  {
   "cell_type": "code",
   "execution_count": 28,
   "metadata": {
    "pycharm": {
     "is_executing": true,
     "name": "#%%\n"
    }
   },
   "outputs": [],
   "source": [
    "#extract columns in the csv file as rows\n",
    "sentiment140_X = df_sentiment140['text'].tolist()\n",
    "sentiment140_y = df_sentiment140['target'].tolist()\n",
    "\n",
    "#split into 80:20 train to test ratio\n",
    "sentiment140_X_train, sentiment140_X_test, sentiment140_y_train, sentiment140_y_test = sklearn.model_selection.train_test_split(\n",
    "    sentiment140_X, sentiment140_y, test_size=0.20, random_state=0)\n",
    "sentiment140_y_train = np.array([sentiment140_y_train]).T.astype(float)\n",
    "sentiment140_y_test = np.array([sentiment140_y_test]).T.astype(float)"
   ]
  },
  {
   "cell_type": "markdown",
   "metadata": {},
   "source": [
    "The data has been successfully extracted and is now ready to be handled by\n",
    "the simple logistic regression model. We simply have to repeat the code\n",
    "sections written out before but now using the sentiment140 data set."
   ]
  },
  {
   "cell_type": "code",
   "execution_count": 29,
   "metadata": {
    "pycharm": {
     "is_executing": true,
     "name": "#%%\n"
    }
   },
   "outputs": [
    {
     "name": "stdout",
     "output_type": "stream",
     "text": [
      "The cost function at the end of training is 0.61724394.\n",
      "The resulting vector of weights is [1e-08, 0.00023757, -0.00020793]\n",
      "The accuracy on the test set is 69.32000000000001%\n"
     ]
    },
    {
     "data": {
      "image/png": "[encoded data removed]",
      "text/plain": [
       "<Figure size 720x576 with 1 Axes>"
      ]
     },
     "metadata": {
      "needs_background": "light"
     },
     "output_type": "display_data"
    }
   ],
   "source": [
    "#Code taken from A. Mashalkar and modified\n",
    "sentiment140_freqs = build_freqs(sentiment140_X_train, sentiment140_y_train)\n",
    "\n",
    "# collect the features 'x' and stack them into a matrix 'X'\n",
    "sentiment140_X_gd = np.zeros((len(sentiment140_X_train), 3))\n",
    "for i in range(len(sentiment140_X_train)):\n",
    "    sentiment140_X_gd[i, :] = extract_features(sentiment140_X_train[i], sentiment140_freqs)\n",
    "\n",
    "# training labels corresponding to X\n",
    "sentiment140_Y_gd = sentiment140_y_train\n",
    "\n",
    "# Apply gradient descent to extract the weight vector w\n",
    "sentiment140_J, sentiment140_w = gradient_descent(sentiment140_X_gd, sentiment140_Y_gd, np.zeros((3, 1)), 1e-9, 1500)\n",
    "print(f\"The cost function at the end of training is {sentiment140_J:.8f}.\")\n",
    "print(f\"The resulting vector of weights is {[round(t, 8) for t in np.squeeze(sentiment140_w)]}\")\n",
    "\n",
    "\n",
    "#Code taken from PIYUSH AGNIHOTRI at Kaggle\n",
    "# Plot the samples using columns 1 and 2 of the matrix\n",
    "fig, ax = plt.subplots(figsize = (10, 8))\n",
    "\n",
    "colors = ['red', 'green']\n",
    "\n",
    "# Color based on the sentiment Y\n",
    "ax.scatter(sentiment140_X_gd[:,1], sentiment140_X_gd[:,2], c=[colors[int(k)] for k in sentiment140_Y_gd], s = 0.1)  # Plot a dot for each pair of words\n",
    "plt.xlabel(\"Positive\")\n",
    "plt.ylabel(\"Negative\")\n",
    "\n",
    "sentiment140_acc = test_logistic_regression(sentiment140_X_test, sentiment140_y_test, sentiment140_freqs,\n",
    "                                            sentiment140_w)\n",
    "\n",
    "print(\"The accuracy on the test set is {}%\".format(sentiment140_acc * 100))"
   ]
  },
  {
   "cell_type": "markdown",
   "metadata": {},
   "source": [
    "Taking a look at the results of the model trained on the sentiment140 dataset,\n",
    "we can observe that it is even lower than that of the airline sentiment\n",
    "dataset's! This is to be discussed in our report submission.\n",
    "\n",
    "### 1.10 Training the model using all three datasets\n",
    "\n",
    "One final experiment to end this section: we will carry over the weights\n",
    "obtained from training the model on sentiment140's dataset and continue\n",
    "the training with the combined dataset of nltk and airline sentiments."
   ]
  },
  {
   "cell_type": "code",
   "execution_count": 30,
   "metadata": {
    "pycharm": {
     "is_executing": true,
     "name": "#%%\n"
    }
   },
   "outputs": [
    {
     "name": "stdout",
     "output_type": "stream",
     "text": [
      "The cost function at the end of training is 0.35470878.\n",
      "The resulting vector of weights is [-3e-08, 0.00049767, -0.00054099]\n"
     ]
    }
   ],
   "source": [
    "# Apply gradient descent to extract the weight vector w\n",
    "reshared_w_J, reshared_w_w = gradient_descent(combined_X_gd, combined_Y_gd, sentiment140_w, 1e-9, 1500)\n",
    "print(f\"The cost function at the end of training is {reshared_w_J:.8f}.\")\n",
    "print(f\"The resulting vector of weights is {[round(t, 8) for t in np.squeeze(reshared_w_w)]}\")"
   ]
  },
  {
   "cell_type": "code",
   "execution_count": 31,
   "metadata": {
    "pycharm": {
     "is_executing": true,
     "name": "#%%\n"
    }
   },
   "outputs": [
    {
     "name": "stdout",
     "output_type": "stream",
     "text": [
      "The accuracy on the test set is 86.98073799025295%\n"
     ]
    }
   ],
   "source": [
    "combined_freqs.update(sentiment140_freqs)\n",
    "\n",
    "reshared_w_acc = test_logistic_regression(combined_X_test, combined_y_test, combined_freqs, reshared_w_w)\n",
    "\n",
    "print(\"The accuracy on the test set is {}%\".format(reshared_w_acc * 100))"
   ]
  },
  {
   "cell_type": "markdown",
   "metadata": {},
   "source": [
    "With one quick look at the accuracy, we can see that it has greatly\n",
    "improved. The reasons for this will be discussed within the report.\n",
    "This concludes the section for sentiment analysis\n",
    "by binary classification using logistic regression and its experiments."
   ]
  },
  {
   "cell_type": "markdown",
   "metadata": {},
   "source": [
    "# 2.0 MultiClass Classifier"
   ]
  },
  {
   "cell_type": "markdown",
   "metadata": {},
   "source": [
    "For the second part of this notebook we will build a MultiClass classification model, evaluated using logistic regression and SVM, as we learned in class."
   ]
  },
  {
   "cell_type": "code",
   "execution_count": 32,
   "metadata": {
    "pycharm": {
     "is_executing": true,
     "name": "#%%\n"
    }
   },
   "outputs": [
    {
     "name": "stdout",
     "output_type": "stream",
     "text": [
      "(14640, 15)\n",
      "negative    9178\n",
      "neutral     3099\n",
      "positive    2363\n",
      "Name: airline_sentiment, dtype: int64\n"
     ]
    },
    {
     "data": {
      "text/html": [
       "<div>\n",
       "<style scoped>\n",
       "    .dataframe tbody tr th:only-of-type {\n",
       "        vertical-align: middle;\n",
       "    }\n",
       "\n",
       "    .dataframe tbody tr th {\n",
       "        vertical-align: top;\n",
       "    }\n",
       "\n",
       "    .dataframe thead th {\n",
       "        text-align: right;\n",
       "    }\n",
       "</style>\n",
       "<table border=\"1\" class=\"dataframe\">\n",
       "  <thead>\n",
       "    <tr style=\"text-align: right;\">\n",
       "      <th></th>\n",
       "      <th>tweet_id</th>\n",
       "      <th>airline_sentiment</th>\n",
       "      <th>airline_sentiment_confidence</th>\n",
       "      <th>negativereason</th>\n",
       "      <th>negativereason_confidence</th>\n",
       "      <th>airline</th>\n",
       "      <th>airline_sentiment_gold</th>\n",
       "      <th>name</th>\n",
       "      <th>negativereason_gold</th>\n",
       "      <th>retweet_count</th>\n",
       "      <th>text</th>\n",
       "      <th>tweet_coord</th>\n",
       "      <th>tweet_created</th>\n",
       "      <th>tweet_location</th>\n",
       "      <th>user_timezone</th>\n",
       "    </tr>\n",
       "  </thead>\n",
       "  <tbody>\n",
       "    <tr>\n",
       "      <th>0</th>\n",
       "      <td>570306133677760513</td>\n",
       "      <td>neutral</td>\n",
       "      <td>1.0000</td>\n",
       "      <td>NaN</td>\n",
       "      <td>NaN</td>\n",
       "      <td>Virgin America</td>\n",
       "      <td>NaN</td>\n",
       "      <td>cairdin</td>\n",
       "      <td>NaN</td>\n",
       "      <td>0</td>\n",
       "      <td>@VirginAmerica What @dhepburn said.</td>\n",
       "      <td>NaN</td>\n",
       "      <td>2015-02-24 11:35:52 -0800</td>\n",
       "      <td>NaN</td>\n",
       "      <td>Eastern Time (US &amp; Canada)</td>\n",
       "    </tr>\n",
       "    <tr>\n",
       "      <th>1</th>\n",
       "      <td>570301130888122368</td>\n",
       "      <td>positive</td>\n",
       "      <td>0.3486</td>\n",
       "      <td>NaN</td>\n",
       "      <td>0.0000</td>\n",
       "      <td>Virgin America</td>\n",
       "      <td>NaN</td>\n",
       "      <td>jnardino</td>\n",
       "      <td>NaN</td>\n",
       "      <td>0</td>\n",
       "      <td>@VirginAmerica plus you've added commercials t...</td>\n",
       "      <td>NaN</td>\n",
       "      <td>2015-02-24 11:15:59 -0800</td>\n",
       "      <td>NaN</td>\n",
       "      <td>Pacific Time (US &amp; Canada)</td>\n",
       "    </tr>\n",
       "    <tr>\n",
       "      <th>2</th>\n",
       "      <td>570301083672813571</td>\n",
       "      <td>neutral</td>\n",
       "      <td>0.6837</td>\n",
       "      <td>NaN</td>\n",
       "      <td>NaN</td>\n",
       "      <td>Virgin America</td>\n",
       "      <td>NaN</td>\n",
       "      <td>yvonnalynn</td>\n",
       "      <td>NaN</td>\n",
       "      <td>0</td>\n",
       "      <td>@VirginAmerica I didn't today... Must mean I n...</td>\n",
       "      <td>NaN</td>\n",
       "      <td>2015-02-24 11:15:48 -0800</td>\n",
       "      <td>Lets Play</td>\n",
       "      <td>Central Time (US &amp; Canada)</td>\n",
       "    </tr>\n",
       "    <tr>\n",
       "      <th>3</th>\n",
       "      <td>570301031407624196</td>\n",
       "      <td>negative</td>\n",
       "      <td>1.0000</td>\n",
       "      <td>Bad Flight</td>\n",
       "      <td>0.7033</td>\n",
       "      <td>Virgin America</td>\n",
       "      <td>NaN</td>\n",
       "      <td>jnardino</td>\n",
       "      <td>NaN</td>\n",
       "      <td>0</td>\n",
       "      <td>@VirginAmerica it's really aggressive to blast...</td>\n",
       "      <td>NaN</td>\n",
       "      <td>2015-02-24 11:15:36 -0800</td>\n",
       "      <td>NaN</td>\n",
       "      <td>Pacific Time (US &amp; Canada)</td>\n",
       "    </tr>\n",
       "    <tr>\n",
       "      <th>4</th>\n",
       "      <td>570300817074462722</td>\n",
       "      <td>negative</td>\n",
       "      <td>1.0000</td>\n",
       "      <td>Can't Tell</td>\n",
       "      <td>1.0000</td>\n",
       "      <td>Virgin America</td>\n",
       "      <td>NaN</td>\n",
       "      <td>jnardino</td>\n",
       "      <td>NaN</td>\n",
       "      <td>0</td>\n",
       "      <td>@VirginAmerica and it's a really big bad thing...</td>\n",
       "      <td>NaN</td>\n",
       "      <td>2015-02-24 11:14:45 -0800</td>\n",
       "      <td>NaN</td>\n",
       "      <td>Pacific Time (US &amp; Canada)</td>\n",
       "    </tr>\n",
       "  </tbody>\n",
       "</table>\n",
       "</div>"
      ],
      "text/plain": [
       "             tweet_id airline_sentiment  airline_sentiment_confidence  \\\n",
       "0  570306133677760513           neutral                        1.0000   \n",
       "1  570301130888122368          positive                        0.3486   \n",
       "2  570301083672813571           neutral                        0.6837   \n",
       "3  570301031407624196          negative                        1.0000   \n",
       "4  570300817074462722          negative                        1.0000   \n",
       "\n",
       "  negativereason  negativereason_confidence         airline  \\\n",
       "0            NaN                        NaN  Virgin America   \n",
       "1            NaN                     0.0000  Virgin America   \n",
       "2            NaN                        NaN  Virgin America   \n",
       "3     Bad Flight                     0.7033  Virgin America   \n",
       "4     Can't Tell                     1.0000  Virgin America   \n",
       "\n",
       "  airline_sentiment_gold        name negativereason_gold  retweet_count  \\\n",
       "0                    NaN     cairdin                 NaN              0   \n",
       "1                    NaN    jnardino                 NaN              0   \n",
       "2                    NaN  yvonnalynn                 NaN              0   \n",
       "3                    NaN    jnardino                 NaN              0   \n",
       "4                    NaN    jnardino                 NaN              0   \n",
       "\n",
       "                                                text tweet_coord  \\\n",
       "0                @VirginAmerica What @dhepburn said.         NaN   \n",
       "1  @VirginAmerica plus you've added commercials t...         NaN   \n",
       "2  @VirginAmerica I didn't today... Must mean I n...         NaN   \n",
       "3  @VirginAmerica it's really aggressive to blast...         NaN   \n",
       "4  @VirginAmerica and it's a really big bad thing...         NaN   \n",
       "\n",
       "               tweet_created tweet_location               user_timezone  \n",
       "0  2015-02-24 11:35:52 -0800            NaN  Eastern Time (US & Canada)  \n",
       "1  2015-02-24 11:15:59 -0800            NaN  Pacific Time (US & Canada)  \n",
       "2  2015-02-24 11:15:48 -0800      Lets Play  Central Time (US & Canada)  \n",
       "3  2015-02-24 11:15:36 -0800            NaN  Pacific Time (US & Canada)  \n",
       "4  2015-02-24 11:14:45 -0800            NaN  Pacific Time (US & Canada)  "
      ]
     },
     "execution_count": 32,
     "metadata": {},
     "output_type": "execute_result"
    }
   ],
   "source": [
    "df = pd.read_csv('Tweets.csv')\n",
    "print(df.shape)\n",
    "print(df.airline_sentiment.value_counts())\n",
    "df.head()"
   ]
  },
  {
   "cell_type": "code",
   "execution_count": 33,
   "metadata": {
    "pycharm": {
     "is_executing": true,
     "name": "#%%\n"
    }
   },
   "outputs": [
    {
     "name": "stdout",
     "output_type": "stream",
     "text": [
      "0        2\n",
      "1        1\n",
      "2        2\n",
      "3        0\n",
      "4        0\n",
      "        ..\n",
      "14635    1\n",
      "14636    0\n",
      "14637    2\n",
      "14638    0\n",
      "14639    2\n",
      "Name: airline_sentiment, Length: 14640, dtype: int64\n"
     ]
    }
   ],
   "source": [
    "# convert sentiments to 0 , 1 or 2\n",
    "def convert_sentiment(sentiment):\n",
    "    if sentiment == \"neutral\":\n",
    "        return 2\n",
    "    elif  sentiment == \"positive\":\n",
    "        return 1\n",
    "    elif sentiment == \"negative\":\n",
    "        return 0\n",
    "\n",
    "df.airline_sentiment = df.airline_sentiment.apply(lambda x : convert_sentiment(x))\n",
    "print(df.airline_sentiment)"
   ]
  },
  {
   "cell_type": "code",
   "execution_count": 34,
   "metadata": {
    "pycharm": {
     "is_executing": true,
     "name": "#%%\n"
    }
   },
   "outputs": [],
   "source": [
    "#extract columns in the csv file as rows\n",
    "airline_X = df['text'].tolist()\n",
    "airline_y = df['airline_sentiment'].tolist()\n",
    "\n",
    "#split into 80:20 train to test ratio\n",
    "airline_X_train, airline_X_test, airline_y_train, airline_y_test = sklearn.model_selection.train_test_split(airline_X, airline_y, test_size=0.20)\n",
    "airline_y_train = np.array([airline_y_train]).T.astype(float)\n",
    "airline_y_test = np.array([airline_y_test]).T.astype(float)\n"
   ]
  },
  {
   "cell_type": "code",
   "execution_count": 35,
   "metadata": {
    "pycharm": {
     "is_executing": true,
     "name": "#%%\n"
    }
   },
   "outputs": [],
   "source": [
    "airline_freqs = build_freqs(airline_X_train, airline_y_train)\n",
    "\n",
    "# collect the features 'x' and stack them into a matrix 'X'\n",
    "airline_X_gd = np.zeros((len(airline_X_train), 4))\n",
    "for i in range(len(airline_X_train)):\n",
    "    airline_X_gd[i, :]= extract_features_multi_class(airline_X_train[i], airline_freqs)\n",
    "\n",
    "airline_X_gd_test = np.zeros((len(airline_X_test), 4))\n",
    "for i in range(len(airline_X_test)):\n",
    "    airline_X_gd_test[i, :]= extract_features_multi_class(airline_X_test[i], airline_freqs)\n",
    "\n",
    "airline_y_gd_train = np.zeros([len(airline_y_train),3])\n",
    "for i in range(len(airline_y_train)):\n",
    "    airline_y_gd_train[i,int(airline_y_train[i,0])]=1\n",
    "\n",
    "airline_y_gd_test = np.zeros([len(airline_y_test),3])\n",
    "for i in range(len(airline_y_test)):\n",
    "    airline_y_gd_test[i,int(airline_y_test[i,0])]=1"
   ]
  },
  {
   "cell_type": "code",
   "execution_count": 36,
   "metadata": {
    "pycharm": {
     "is_executing": true,
     "name": "#%%\n"
    }
   },
   "outputs": [],
   "source": [
    "#combine both list of tweets into one data set\n",
    "combined_X = airline_X + nltk_X\n",
    "combined_y = airline_y + nltk_y\n",
    "\n",
    "#split into 80:20 train to test ratio\n",
    "combined_X_train, combined_X_test, combined_y_train, combined_y_test = sklearn.model_selection.train_test_split(combined_X, combined_y, test_size=0.20)\n",
    "combined_y_train = np.array([combined_y_train]).T.astype(float)\n",
    "combined_y_test = np.array([combined_y_test]).T.astype(float)\n",
    "\n",
    "combined_freqs = build_freqs(combined_X_train, combined_y_train)\n",
    "\n",
    "# collect the features 'x' and stack them into a matrix 'X'\n",
    "combined_X_gd = np.zeros((len(combined_X_train), 4))\n",
    "for i in range(len(combined_X_train)):\n",
    "    combined_X_gd[i, :]= extract_features_multi_class(combined_X_train[i], combined_freqs)\n",
    "\n",
    "combined_X_gd_test = np.zeros((len(combined_X_test), 4))\n",
    "for i in range(len(airline_X_test)):\n",
    "    combined_X_gd_test[i, :]= extract_features_multi_class(combined_X_test[i], combined_freqs)\n",
    "\n",
    "combined_y_gd_train = np.zeros([len(combined_y_train),3])\n",
    "for i in range(len(combined_y_train)):\n",
    "    combined_y_gd_train[i,int(combined_y_train[i,0])]=1\n",
    "\n",
    "combined_y_gd_test = np.zeros([len(combined_y_test),3])\n",
    "for i in range(len(combined_y_test)):\n",
    "    combined_y_gd_test[i,int(combined_y_test[i,0])]=1"
   ]
  },
  {
   "cell_type": "code",
   "execution_count": 37,
   "metadata": {
    "pycharm": {
     "is_executing": true,
     "name": "#%%\n"
    }
   },
   "outputs": [],
   "source": [
    "def plot_data(X_train, y_train, title):\n",
    "  fig = plt.figure(figsize = (10,10))\n",
    "  ax = plt.axes(projection='3d')\n",
    "  \"\"\"Scatterplot of the data with their labels\"\"\"\n",
    "  z1= X_train[np.where(y_train[:,0]==1),2]\n",
    "  z2= X_train[np.where(y_train[:,1]==1),2]\n",
    "  z3= X_train[np.where(y_train[:,2]==1),2]\n",
    "\n",
    "  ax.scatter(X_train[np.where(y_train[:,0]==1),0], X_train[np.where(y_train[:,0]==1),1], c=z1 ,cmap='viridis', linewidth=0.5)\n",
    "  ax.scatter(X_train[np.where(y_train[:,1]==1),0], X_train[np.where(y_train[:,1]==1),1], c=z2, cmap='viridis', linewidth=0.5)\n",
    "  ax.scatter(X_train[np.where(y_train[:,2]==1),0], X_train[np.where(y_train[:,2]==1),1], c=z3, cmap='viridis', linewidth=0.5)\n",
    "\n",
    "  plt.title(title)\n",
    "\n",
    "  # Set axes label\n",
    "  ax.set_xlabel('Negative', labelpad=20)\n",
    "  ax.set_ylabel('Positive', labelpad=20)\n",
    "  ax.set_zlabel('Neutral', labelpad=20)\n",
    "  plt.show()"
   ]
  },
  {
   "cell_type": "code",
   "execution_count": 38,
   "metadata": {
    "pycharm": {
     "is_executing": true,
     "name": "#%%\n"
    }
   },
   "outputs": [
    {
     "data": {
      "image/png": "[encoded data removed]",
      "text/plain": [
       "<Figure size 720x720 with 1 Axes>"
      ]
     },
     "metadata": {
      "needs_background": "light"
     },
     "output_type": "display_data"
    },
    {
     "data": {
      "image/png": "[encoded data removed]",
      "text/plain": [
       "<Figure size 720x720 with 1 Axes>"
      ]
     },
     "metadata": {
      "needs_background": "light"
     },
     "output_type": "display_data"
    }
   ],
   "source": [
    "\n",
    "# Plot training data\n",
    "plot_data(airline_X_gd[:,1:],airline_y_gd_train, 'Twitter US Airline Sentiment')\n",
    "plot_data(combined_X_gd[:,1:],combined_y_gd_train, 'Combined Dataset Sentiment')\n"
   ]
  },
  {
   "cell_type": "markdown",
   "metadata": {},
   "source": [
    "as we see in the plot , our feature space is not linear."
   ]
  },
  {
   "cell_type": "code",
   "execution_count": 39,
   "metadata": {
    "pycharm": {
     "is_executing": true,
     "name": "#%%\n"
    }
   },
   "outputs": [],
   "source": [
    "X_train = airline_X_gd[:,1:]\n",
    "y_train = airline_y_gd_train.argmax(axis=1)\n",
    "\n",
    "X_test = airline_X_gd_test[:,1:]\n",
    "y_test = airline_y_gd_test.argmax(axis=1)\n"
   ]
  },
  {
   "cell_type": "code",
   "execution_count": 40,
   "metadata": {
    "pycharm": {
     "is_executing": true,
     "name": "#%%\n"
    }
   },
   "outputs": [],
   "source": [
    "def accuracy(confusion_matrix):\n",
    "    diagonal_sum = confusion_matrix.trace()\n",
    "    sum_of_all_elements = confusion_matrix.sum()\n",
    "    return ((diagonal_sum / sum_of_all_elements) * 100)\n"
   ]
  },
  {
   "cell_type": "markdown",
   "metadata": {},
   "source": [
    "# SVM Multiclass Classification"
   ]
  },
  {
   "cell_type": "code",
   "execution_count": 41,
   "metadata": {
    "pycharm": {
     "is_executing": true,
     "name": "#%%\n"
    }
   },
   "outputs": [
    {
     "name": "stdout",
     "output_type": "stream",
     "text": [
      "Accuracy of SVM on training set :  99.41086065573771 %\n"
     ]
    }
   ],
   "source": [
    "rbf = SVC(kernel='rbf',gamma= 10, C=10)\n",
    "rbf.fit(X_train, y_train)\n",
    "y_pred = rbf.predict(X_train)\n",
    "cm = confusion_matrix(y_pred, y_train)\n",
    "print(\"Accuracy of SVM on training set : \", accuracy(cm),\"%\")"
   ]
  },
  {
   "cell_type": "code",
   "execution_count": 42,
   "metadata": {
    "pycharm": {
     "is_executing": true,
     "name": "#%%\n"
    }
   },
   "outputs": [
    {
     "name": "stdout",
     "output_type": "stream",
     "text": [
      "Accuracy (RBF Kernel):  66.77\n",
      "F1 (RBF Kernel):  56.46\n"
     ]
    }
   ],
   "source": [
    "rbf_pred = rbf.predict(X_test)\n",
    "rbf_accuracy = accuracy_score(y_test, rbf_pred)\n",
    "rbf_f1 = f1_score(y_test, rbf_pred, average='weighted')\n",
    "print('Accuracy (RBF Kernel): ', \"%.2f\" % (rbf_accuracy*100))\n",
    "print('F1 (RBF Kernel): ', \"%.2f\" % (rbf_f1*100))\n"
   ]
  },
  {
   "cell_type": "markdown",
   "metadata": {},
   "source": [
    "# Hyperparameter search"
   ]
  },
  {
   "cell_type": "code",
   "execution_count": 43,
   "metadata": {
    "pycharm": {
     "is_executing": true,
     "name": "#%%\n"
    }
   },
   "outputs": [
    {
     "name": "stdout",
     "output_type": "stream",
     "text": [
      "99.4% training accuracy for gamma=10.000 c=1\n",
      "66.8% test accuracy for gamma=10.000 c=1\n",
      "99.4% training accuracy for gamma=10.000 c=10\n",
      "66.8% test accuracy for gamma=10.000 c=10\n",
      "99.4% training accuracy for gamma=10.000 c=100\n",
      "66.8% test accuracy for gamma=10.000 c=100\n"
     ]
    }
   ],
   "source": [
    "gamma_grid = np.array([1, 10, 100])\n",
    "c_grid = np.array([1, 10, 100])\n",
    "\n",
    "training_accuracies = np.zeros((3,3))\n",
    "\n",
    "#ToDo activate at the end\n",
    "test_accuracies = np.zeros((3,3))\n",
    "\n",
    "g = -1\n",
    "c = -1\n",
    "\n",
    "for gamma in gamma_grid:\n",
    "    g = (g+1)%3\n",
    "    for c_val in c_grid:\n",
    "        c = (c+1)%3\n",
    "        rbf = SVC(kernel='rbf',gamma = gamma, C = c_val)\n",
    "\n",
    "        # SVM training\n",
    "        rbf.fit(X_train, y_train)\n",
    "        y_pred = rbf.predict(X_train)\n",
    "\n",
    "        # Getting Accuracy\n",
    "        cm = confusion_matrix(y_pred, y_train)\n",
    "        training_accuracies[g,c] = accuracy(cm)\n",
    "        if g==1:\n",
    "            print(\"%.1f%% training accuracy for gamma=%.3f c=%i\" % (accuracy(cm), gamma, c_val))\n",
    "        #ToDo activate at the end\n",
    "        # SVM prediction\n",
    "        y_pred = rbf.predict(X_test)\n",
    "\n",
    "        # Getting Accuracy\n",
    "        cm = confusion_matrix(y_pred, y_test)\n",
    "        test_accuracies[g,c] = accuracy(cm)\n",
    "\n",
    "        if g==1:\n",
    "            print(\"%.1f%% test accuracy for gamma=%.3f c=%i\" % (accuracy(cm), gamma, c_val))"
   ]
  },
  {
   "cell_type": "code",
   "execution_count": 44,
   "metadata": {
    "pycharm": {
     "is_executing": true,
     "name": "#%%\n"
    }
   },
   "outputs": [
    {
     "data": {
      "image/png": "[encoded data removed]",
      "text/plain": [
       "<Figure size 576x576 with 2 Axes>"
      ]
     },
     "metadata": {
      "needs_background": "light"
     },
     "output_type": "display_data"
    },
    {
     "data": {
      "image/png": "[encoded data removed]",
      "text/plain": [
       "<Figure size 576x576 with 2 Axes>"
      ]
     },
     "metadata": {
      "needs_background": "light"
     },
     "output_type": "display_data"
    }
   ],
   "source": [
    "plt.figure(figsize = (8,8))\n",
    "plt.xticks([0,1,2], gamma_grid)\n",
    "plt.yticks([0,1,2], c_grid)\n",
    "plt.imshow(training_accuracies, interpolation='nearest' , origin ='lower', cmap= 'hot')\n",
    "plt.title('Accuracy on training Data')\n",
    "plt.colorbar()\n",
    "plt.xlabel('gamma')\n",
    "plt.ylabel('C')\n",
    "\n",
    "#ToDo activate at the end\n",
    "plt.figure(figsize = (8,8))\n",
    "plt.xticks([0,1,2], gamma_grid)\n",
    "plt.yticks([0,1,2], c_grid)\n",
    "plt.imshow(test_accuracies, interpolation='nearest' , origin ='lower', cmap= 'hot')\n",
    "plt.colorbar()\n",
    "plt.title('Accuracy on test Data')\n",
    "plt.xlabel('gamma')\n",
    "plt.ylabel('C')\n",
    "plt.show()"
   ]
  },
  {
   "cell_type": "code",
   "execution_count": 45,
   "metadata": {
    "pycharm": {
     "is_executing": true,
     "name": "#%%\n"
    }
   },
   "outputs": [
    {
     "name": "stdout",
     "output_type": "stream",
     "text": [
      "Highest test accuracy= 66.9% \n",
      "gamma= 1.0% ,C= 10.0% \n"
     ]
    }
   ],
   "source": [
    "i,j = np.unravel_index(test_accuracies.argmax(), test_accuracies.shape)\n",
    "print (\"Highest test accuracy= %.1f%% \" % (test_accuracies[i,j]))\n",
    "print (\"gamma= %.1f%% ,C= %.1f%% \" % (gamma_grid[i],c_grid[j]))"
   ]
  },
  {
   "cell_type": "markdown",
   "metadata": {},
   "source": [
    "# Multiclass Logistic Regression with scikit learn"
   ]
  },
  {
   "cell_type": "code",
   "execution_count": 46,
   "metadata": {
    "pycharm": {
     "is_executing": true,
     "name": "#%%\n"
    }
   },
   "outputs": [
    {
     "name": "stdout",
     "output_type": "stream",
     "text": [
      "Accuracy of multinomial logistic regression :  73.79610655737704 %\n",
      "held-out accuracy (2-fold):   73.7%\n",
      "held-out accuracy (3-fold):   73.8%\n",
      "held-out accuracy (4-fold):   73.7%\n",
      "held-out accuracy (5-fold):   73.7%\n",
      "held-out accuracy (6-fold):   73.7%\n",
      "held-out accuracy (7-fold):   73.8%\n",
      "held-out accuracy (8-fold):   73.7%\n",
      "held-out accuracy (9-fold):   73.7%\n"
     ]
    }
   ],
   "source": [
    "model_mlr = LogisticRegression(multi_class='multinomial', solver='sag', random_state=1)\n",
    "model_mlr.fit(X_train,y_train)\n",
    "\n",
    "mlr_score = model_mlr.score(X_train,y_train)\n",
    "print(\"Accuracy of multinomial logistic regression : \", mlr_score*100,\"%\")\n",
    "\n",
    "for k in range(2,10):\n",
    "    scores = cross_val_score(model_mlr, X_train, y_train, cv=k)\n",
    "    print(\"held-out accuracy (%d-fold):   %.1f%%\" % (k, scores.mean()*100))"
   ]
  },
  {
   "cell_type": "code",
   "execution_count": 47,
   "metadata": {
    "pycharm": {
     "is_executing": true,
     "name": "#%%\n"
    }
   },
   "outputs": [
    {
     "name": "stdout",
     "output_type": "stream",
     "text": [
      "Accuracy of multinomial logistic regression :  70.73087431693989 %\n"
     ]
    }
   ],
   "source": [
    "mlr_score = model_mlr.score(X_test, y_test)\n",
    "print(\"Accuracy of multinomial logistic regression : \", mlr_score*100,\"%\")"
   ]
  },
  {
   "cell_type": "markdown",
   "metadata": {},
   "source": [
    "As a final experiment, I would like to repeat the training and testing of our models, but this time with both data sets combined. Let's do a little processing of the data to achieve this objective."
   ]
  },
  {
   "cell_type": "code",
   "execution_count": 48,
   "metadata": {
    "pycharm": {
     "is_executing": true,
     "name": "#%%\n"
    }
   },
   "outputs": [
    {
     "name": "stdout",
     "output_type": "stream",
     "text": [
      "The data is now ready to go through the training loops and testing outputs.\n"
     ]
    }
   ],
   "source": [
    "X_train = combined_X_gd[:,1:]\n",
    "y_train = combined_y_gd_train.argmax(axis=1)\n",
    "\n",
    "X_test = combined_X_gd_test[:,1:]\n",
    "y_test = combined_y_gd_test.argmax(axis=1)\n",
    "print(\"The data is now ready to go through the training loops and testing outputs.\")"
   ]
  },
  {
   "cell_type": "markdown",
   "metadata": {},
   "source": [
    "## Train SVM on combined dataset:"
   ]
  },
  {
   "cell_type": "code",
   "execution_count": 49,
   "metadata": {
    "pycharm": {
     "is_executing": true,
     "name": "#%%\n"
    }
   },
   "outputs": [
    {
     "name": "stdout",
     "output_type": "stream",
     "text": [
      "Accuracy of SVM on training set :  99.56371753246754 %\n"
     ]
    }
   ],
   "source": [
    "rbf = SVC(kernel='rbf',gamma= 10, C=10)\n",
    "rbf.fit(X_train, y_train)\n",
    "y_pred = rbf.predict(X_train)\n",
    "cm = confusion_matrix(y_pred, y_train)\n",
    "print(\"Accuracy of SVM on training set : \", accuracy(cm),\"%\")"
   ]
  },
  {
   "cell_type": "code",
   "execution_count": 50,
   "metadata": {
    "pycharm": {
     "is_executing": true,
     "name": "#%%\n"
    }
   },
   "outputs": [
    {
     "name": "stdout",
     "output_type": "stream",
     "text": [
      "Accuracy (RBF Kernel):  51.22\n",
      "F1 (RBF Kernel):  49.52\n"
     ]
    }
   ],
   "source": [
    "rbf_pred = rbf.predict(X_test)\n",
    "rbf_accuracy = accuracy_score(y_test, rbf_pred)\n",
    "rbf_f1 = f1_score(y_test, rbf_pred, average='weighted')\n",
    "print('Accuracy (RBF Kernel): ', \"%.2f\" % (rbf_accuracy*100))\n",
    "print('F1 (RBF Kernel): ', \"%.2f\" % (rbf_f1*100))"
   ]
  },
  {
   "cell_type": "markdown",
   "metadata": {},
   "source": [
    "## Train Multiclass Logistic Regression on combined dataset:"
   ]
  },
  {
   "cell_type": "code",
   "execution_count": 51,
   "metadata": {
    "pycharm": {
     "is_executing": true,
     "name": "#%%\n"
    }
   },
   "outputs": [
    {
     "name": "stdout",
     "output_type": "stream",
     "text": [
      "Accuracy of multinomial logistic regression :  82.60450487012987 %\n",
      "held-out accuracy (2-fold):   82.6%\n",
      "held-out accuracy (3-fold):   82.6%\n",
      "held-out accuracy (4-fold):   82.6%\n",
      "held-out accuracy (5-fold):   82.6%\n",
      "held-out accuracy (6-fold):   82.6%\n",
      "held-out accuracy (7-fold):   82.6%\n",
      "held-out accuracy (8-fold):   82.6%\n",
      "held-out accuracy (9-fold):   82.6%\n"
     ]
    }
   ],
   "source": [
    "model_mlr = LogisticRegression(multi_class='multinomial', solver='lbfgs', random_state=1)\n",
    "model_mlr.fit(X_train,y_train)\n",
    "\n",
    "mlr_score = model_mlr.score(X_train,y_train)\n",
    "print(\"Accuracy of multinomial logistic regression : \", mlr_score*100,\"%\")\n",
    "\n",
    "for k in range(2,10):\n",
    "    scores = cross_val_score(model_mlr, X_train, y_train, cv=k)\n",
    "    print(\"held-out accuracy (%d-fold):   %.1f%%\" % (k, scores.mean()*100))"
   ]
  },
  {
   "cell_type": "code",
   "execution_count": 52,
   "metadata": {
    "pycharm": {
     "is_executing": true,
     "name": "#%%\n"
    }
   },
   "outputs": [
    {
     "name": "stdout",
     "output_type": "stream",
     "text": [
      "Accuracy of multinomial logistic regression :  71.875 %\n"
     ]
    }
   ],
   "source": [
    "mlr_score = model_mlr.score(X_test, y_test)\n",
    "print(\"Accuracy of multinomial logistic regression : \", mlr_score*100,\"%\")"
   ]
  },
  {
   "cell_type": "markdown",
   "metadata": {},
   "source": [
    "# 3.0 RNN Model\n",
    "\n",
    "Code referenced from https://techvidvan.com/tutorials/python-sentiment-analysis/\n",
    "\n",
    "Most of the code comes from this blog post. We tried it out on multiple\n",
    "data sets to see the results."
   ]
  },
  {
   "cell_type": "markdown",
   "metadata": {},
   "source": [
    "Run the code cell below to define some useful functions for plotting data and predictions."
   ]
  },
  {
   "cell_type": "code",
   "execution_count": 53,
   "metadata": {
    "pycharm": {
     "is_executing": true,
     "name": "#%%\n"
    }
   },
   "outputs": [],
   "source": [
    "def plot_model_evaluation(model):\n",
    "    fig1 = plt.figure(figsize=(12,5))\n",
    "    ax1 = fig1.add_subplot(1, 1, 1)\n",
    "#     s, (at, al) = plt.subplots(2,1)\n",
    "    ax1.plot(model.history['accuracy'], c= 'b')\n",
    "    ax1.plot(model.history['val_accuracy'], c='r')\n",
    "    ax1.set_title('model accuracy')\n",
    "    ax1.set_ylabel('accuracy')\n",
    "    ax1.set_xlabel('epoch')\n",
    "    ax1.legend(['LSTM_train', 'LSTM_val'], loc='upper left')\n",
    "\n",
    "    fig2 = plt.figure(figsize=(12,5))\n",
    "    al = fig2.add_subplot(2, 1, 1)\n",
    "    al.plot(model.history['loss'], c='m')\n",
    "    al.plot(model.history['val_loss'], c='c')\n",
    "    al.set_title('model loss')\n",
    "    al.set_ylabel('loss')\n",
    "    al.set_xlabel('epoch')\n",
    "    al.legend(['train', 'val'], loc = 'upper left')\n",
    "\n",
    "def plot_confusion_matrix(cm, classes,\n",
    "                          title='Confusion matrix',\n",
    "                          cmap=plt.cm.Blues):\n",
    "    \"\"\"\n",
    "    This function prints and plots the confusion matrix.\n",
    "    Normalization can be applied by setting `normalize=True`.\n",
    "    \"\"\"\n",
    "\n",
    "    cm = cm.astype('float') / cm.sum(axis=1)[:, np.newaxis]\n",
    "\n",
    "    plt.imshow(cm, interpolation='nearest', cmap=cmap)\n",
    "    plt.title(title, fontsize=20)\n",
    "    plt.colorbar()\n",
    "    tick_marks = np.arange(len(classes))\n",
    "    plt.xticks(tick_marks, classes, fontsize=13)\n",
    "    plt.yticks(tick_marks, classes, fontsize=13)\n",
    "\n",
    "    fmt = '.2f'\n",
    "    thresh = cm.max() / 2.\n",
    "    for i, j in itertools.product(range(cm.shape[0]), range(cm.shape[1])):\n",
    "        plt.text(j, i, format(cm[i, j], fmt),\n",
    "                 horizontalalignment=\"center\",\n",
    "                 color=\"white\" if cm[i, j] > thresh else \"black\")\n",
    "\n",
    "    plt.ylabel('True label', fontsize=17)\n",
    "    plt.xlabel('Predicted label', fontsize=17)\n",
    "warnings.filterwarnings('ignore')"
   ]
  },
  {
   "cell_type": "markdown",
   "metadata": {},
   "source": [
    "## Dataset Preprocessing"
   ]
  },
  {
   "cell_type": "code",
   "execution_count": 54,
   "metadata": {
    "pycharm": {
     "is_executing": true,
     "name": "#%%\n"
    }
   },
   "outputs": [
    {
     "name": "stdout",
     "output_type": "stream",
     "text": [
      "(14640, 2)\n"
     ]
    },
    {
     "data": {
      "text/html": [
       "<div>\n",
       "<style scoped>\n",
       "    .dataframe tbody tr th:only-of-type {\n",
       "        vertical-align: middle;\n",
       "    }\n",
       "\n",
       "    .dataframe tbody tr th {\n",
       "        vertical-align: top;\n",
       "    }\n",
       "\n",
       "    .dataframe thead th {\n",
       "        text-align: right;\n",
       "    }\n",
       "</style>\n",
       "<table border=\"1\" class=\"dataframe\">\n",
       "  <thead>\n",
       "    <tr style=\"text-align: right;\">\n",
       "      <th></th>\n",
       "      <th>text</th>\n",
       "      <th>airline_sentiment</th>\n",
       "    </tr>\n",
       "  </thead>\n",
       "  <tbody>\n",
       "    <tr>\n",
       "      <th>0</th>\n",
       "      <td>@VirginAmerica What @dhepburn said.</td>\n",
       "      <td>neutral</td>\n",
       "    </tr>\n",
       "    <tr>\n",
       "      <th>1</th>\n",
       "      <td>@VirginAmerica plus you've added commercials t...</td>\n",
       "      <td>positive</td>\n",
       "    </tr>\n",
       "    <tr>\n",
       "      <th>2</th>\n",
       "      <td>@VirginAmerica I didn't today... Must mean I n...</td>\n",
       "      <td>neutral</td>\n",
       "    </tr>\n",
       "    <tr>\n",
       "      <th>3</th>\n",
       "      <td>@VirginAmerica it's really aggressive to blast...</td>\n",
       "      <td>negative</td>\n",
       "    </tr>\n",
       "    <tr>\n",
       "      <th>4</th>\n",
       "      <td>@VirginAmerica and it's a really big bad thing...</td>\n",
       "      <td>negative</td>\n",
       "    </tr>\n",
       "  </tbody>\n",
       "</table>\n",
       "</div>"
      ],
      "text/plain": [
       "                                                text airline_sentiment\n",
       "0                @VirginAmerica What @dhepburn said.           neutral\n",
       "1  @VirginAmerica plus you've added commercials t...          positive\n",
       "2  @VirginAmerica I didn't today... Must mean I n...           neutral\n",
       "3  @VirginAmerica it's really aggressive to blast...          negative\n",
       "4  @VirginAmerica and it's a really big bad thing...          negative"
      ]
     },
     "execution_count": 54,
     "metadata": {},
     "output_type": "execute_result"
    }
   ],
   "source": [
    "df = pd.read_csv('tweets.csv')\n",
    "filtered_df = df[['text','airline_sentiment']]\n",
    "print(filtered_df.shape)\n",
    "filtered_df.head(5)"
   ]
  },
  {
   "cell_type": "code",
   "execution_count": 55,
   "metadata": {
    "pycharm": {
     "is_executing": true,
     "name": "#%%\n"
    }
   },
   "outputs": [
    {
     "name": "stdout",
     "output_type": "stream",
     "text": [
      "(11541, 2)\n"
     ]
    },
    {
     "data": {
      "text/html": [
       "<div>\n",
       "<style scoped>\n",
       "    .dataframe tbody tr th:only-of-type {\n",
       "        vertical-align: middle;\n",
       "    }\n",
       "\n",
       "    .dataframe tbody tr th {\n",
       "        vertical-align: top;\n",
       "    }\n",
       "\n",
       "    .dataframe thead th {\n",
       "        text-align: right;\n",
       "    }\n",
       "</style>\n",
       "<table border=\"1\" class=\"dataframe\">\n",
       "  <thead>\n",
       "    <tr style=\"text-align: right;\">\n",
       "      <th></th>\n",
       "      <th>text</th>\n",
       "      <th>airline_sentiment</th>\n",
       "    </tr>\n",
       "  </thead>\n",
       "  <tbody>\n",
       "    <tr>\n",
       "      <th>1</th>\n",
       "      <td>@VirginAmerica plus you've added commercials t...</td>\n",
       "      <td>positive</td>\n",
       "    </tr>\n",
       "    <tr>\n",
       "      <th>3</th>\n",
       "      <td>@VirginAmerica it's really aggressive to blast...</td>\n",
       "      <td>negative</td>\n",
       "    </tr>\n",
       "    <tr>\n",
       "      <th>4</th>\n",
       "      <td>@VirginAmerica and it's a really big bad thing...</td>\n",
       "      <td>negative</td>\n",
       "    </tr>\n",
       "    <tr>\n",
       "      <th>5</th>\n",
       "      <td>@VirginAmerica seriously would pay $30 a fligh...</td>\n",
       "      <td>negative</td>\n",
       "    </tr>\n",
       "    <tr>\n",
       "      <th>6</th>\n",
       "      <td>@VirginAmerica yes, nearly every time I fly VX...</td>\n",
       "      <td>positive</td>\n",
       "    </tr>\n",
       "  </tbody>\n",
       "</table>\n",
       "</div>"
      ],
      "text/plain": [
       "                                                text airline_sentiment\n",
       "1  @VirginAmerica plus you've added commercials t...          positive\n",
       "3  @VirginAmerica it's really aggressive to blast...          negative\n",
       "4  @VirginAmerica and it's a really big bad thing...          negative\n",
       "5  @VirginAmerica seriously would pay $30 a fligh...          negative\n",
       "6  @VirginAmerica yes, nearly every time I fly VX...          positive"
      ]
     },
     "execution_count": 55,
     "metadata": {},
     "output_type": "execute_result"
    }
   ],
   "source": [
    "filtered_df =  filtered_df[filtered_df.airline_sentiment != \"neutral\"]\n",
    "filtered_df = filtered_df.dropna()\n",
    "print(filtered_df.shape)\n",
    "filtered_df.head(5)"
   ]
  },
  {
   "cell_type": "code",
   "execution_count": 56,
   "metadata": {
    "pycharm": {
     "is_executing": true,
     "name": "#%%\n"
    }
   },
   "outputs": [
    {
     "name": "stdout",
     "output_type": "stream",
     "text": [
      "negative    9178\n",
      "positive    2363\n",
      "Name: airline_sentiment, dtype: int64\n"
     ]
    },
    {
     "data": {
      "text/plain": [
       "Text(0.5, 1.0, 'Sentiment Data Distribution')"
      ]
     },
     "execution_count": 56,
     "metadata": {},
     "output_type": "execute_result"
    },
    {
     "data": {
      "image/png": "[encoded data removed]",
      "text/plain": [
       "<Figure size 576x288 with 1 Axes>"
      ]
     },
     "metadata": {
      "needs_background": "light"
     },
     "output_type": "display_data"
    }
   ],
   "source": [
    "val_count = filtered_df.airline_sentiment.value_counts()\n",
    "print(val_count)\n",
    "plt.figure(figsize=(8,4))\n",
    "plt.bar(val_count.index, val_count.values)\n",
    "plt.title(\"Sentiment Data Distribution\")"
   ]
  },
  {
   "cell_type": "code",
   "execution_count": 57,
   "metadata": {
    "pycharm": {
     "is_executing": true,
     "name": "#%%\n"
    }
   },
   "outputs": [],
   "source": [
    "stop_words = stopwords.words('english')\n",
    "stemmer = SnowballStemmer('english')\n",
    "\n",
    "text_cleaning_re = \"@\\S+|https?:\\S+|http?:\\S|[^A-Za-z0-9]+\"\n",
    "def preprocess(text, stem=False):\n",
    "  text = re.sub(text_cleaning_re, ' ', str(text).lower()).strip()\n",
    "  tokens = []\n",
    "  for token in text.split():\n",
    "    if token not in stop_words:\n",
    "      if stem:\n",
    "        tokens.append(stemmer.stem(token))\n",
    "      else:\n",
    "        tokens.append(token)\n",
    "  return \" \".join(tokens)\n",
    "df.text = filtered_df.text.apply(lambda x: preprocess(x))\n"
   ]
  },
  {
   "cell_type": "code",
   "execution_count": 58,
   "metadata": {
    "pycharm": {
     "is_executing": true,
     "name": "#%%\n"
    }
   },
   "outputs": [
    {
     "name": "stdout",
     "output_type": "stream",
     "text": [
      "Train Data size: 9232\n",
      "Test Data size 2309\n"
     ]
    }
   ],
   "source": [
    "MAX_NB_WORDS = 10000\n",
    "MAX_SEQUENCE_LENGTH = 30\n",
    "# Splits Dataset into Training and Testing set\n",
    "train_data, test_data = train_test_split(filtered_df, test_size=0.2,random_state=7)\n",
    "print(\"Train Data size:\", len(train_data))\n",
    "print(\"Test Data size\", len(test_data))"
   ]
  },
  {
   "cell_type": "markdown",
   "metadata": {},
   "source": [
    "## Tokenization"
   ]
  },
  {
   "cell_type": "code",
   "execution_count": 59,
   "metadata": {
    "pycharm": {
     "is_executing": true,
     "name": "#%%\n"
    }
   },
   "outputs": [
    {
     "name": "stdout",
     "output_type": "stream",
     "text": [
      "Vocabulary Size : 11611\n",
      "Training X Shape: (9232, 30)\n",
      "Testing X Shape: (2309, 30)\n"
     ]
    }
   ],
   "source": [
    "tokenizer = Tokenizer()\n",
    "tokenizer.fit_on_texts(train_data.text)\n",
    "\n",
    "word_index = tokenizer.word_index\n",
    "vocab_size = len(tokenizer.word_index) + 1\n",
    "print(\"Vocabulary Size :\", vocab_size)\n",
    "x_train = pad_sequences(tokenizer.texts_to_sequences(train_data.text),\n",
    "                        maxlen = MAX_SEQUENCE_LENGTH)\n",
    "x_test = pad_sequences(tokenizer.texts_to_sequences(test_data.text),\n",
    "                       maxlen = MAX_SEQUENCE_LENGTH)\n",
    "\n",
    "print(\"Training X Shape:\",x_train.shape)\n",
    "print(\"Testing X Shape:\",x_test.shape)"
   ]
  },
  {
   "cell_type": "markdown",
   "metadata": {},
   "source": [
    "## Label Encoding"
   ]
  },
  {
   "cell_type": "markdown",
   "metadata": {},
   "source": [
    "We are building the model to predict class in enocoded form (0 or 1 as this is a binary classification). We should encode our training labels to encodings."
   ]
  },
  {
   "cell_type": "code",
   "execution_count": 60,
   "metadata": {
    "pycharm": {
     "is_executing": true,
     "name": "#%%\n"
    }
   },
   "outputs": [
    {
     "name": "stdout",
     "output_type": "stream",
     "text": [
      "y_train shape: (9232, 1)\n",
      "y_test shape: (2309, 1)\n"
     ]
    }
   ],
   "source": [
    "labels = train_data.airline_sentiment.unique().tolist()\n",
    "encoder = LabelEncoder()\n",
    "encoder.fit(train_data.airline_sentiment.to_list())\n",
    "\n",
    "y_train = encoder.transform(train_data.airline_sentiment.to_list())\n",
    "y_test = encoder.transform(test_data.airline_sentiment.to_list())\n",
    "\n",
    "y_train = y_train.reshape(-1,1)\n",
    "y_test = y_test.reshape(-1,1)\n",
    "\n",
    "print(\"y_train shape:\", y_train.shape)\n",
    "print(\"y_test shape:\", y_test.shape)"
   ]
  },
  {
   "cell_type": "markdown",
   "metadata": {},
   "source": [
    "## Build the Text Classifier"
   ]
  },
  {
   "cell_type": "code",
   "execution_count": 64,
   "metadata": {
    "pycharm": {
     "is_executing": true,
     "name": "#%%\n"
    }
   },
   "outputs": [
    {
     "name": "stdout",
     "output_type": "stream",
     "text": [
      "Model: \"sequential_1\"\n",
      "_________________________________________________________________\n",
      " Layer (type)                Output Shape              Param #   \n",
      "=================================================================\n",
      " embedding_1 (Embedding)     (None, 30, 32)            371552    \n",
      "                                                                 \n",
      " spatial_dropout1d_1 (Spatia  (None, 30, 32)           0         \n",
      " lDropout1D)                                                     \n",
      "                                                                 \n",
      " lstm_1 (LSTM)               (None, 50)                16600     \n",
      "                                                                 \n",
      " dropout_1 (Dropout)         (None, 50)                0         \n",
      "                                                                 \n",
      " dense_1 (Dense)             (None, 1)                 51        \n",
      "                                                                 \n",
      "=================================================================\n",
      "Total params: 388,203\n",
      "Trainable params: 388,203\n",
      "Non-trainable params: 0\n",
      "_________________________________________________________________\n",
      "None\n"
     ]
    }
   ],
   "source": [
    "embedding_vector_length = 32\n",
    "model = Sequential()\n",
    "model.add(Embedding(vocab_size, embedding_vector_length, input_length=30))\n",
    "model.add(SpatialDropout1D(0.25))\n",
    "model.add(LSTM(50, dropout=0.5, recurrent_dropout=0.5))\n",
    "model.add(Dropout(0.2))\n",
    "model.add(Dense(1, activation='sigmoid'))\n",
    "model.compile(loss='binary_crossentropy',optimizer='adam', metrics=['accuracy'])\n",
    "print(model.summary())"
   ]
  },
  {
   "cell_type": "code",
   "execution_count": 65,
   "metadata": {
    "pycharm": {
     "is_executing": true,
     "name": "#%%\n"
    }
   },
   "outputs": [
    {
     "name": "stdout",
     "output_type": "stream",
     "text": [
      "Epoch 1/5\n",
      "116/116 [==============================] - 4s 22ms/step - loss: 0.4559 - accuracy: 0.8160 - val_loss: 0.3241 - val_accuracy: 0.8565\n",
      "Epoch 2/5\n",
      "116/116 [==============================] - 2s 18ms/step - loss: 0.2657 - accuracy: 0.8979 - val_loss: 0.2329 - val_accuracy: 0.9139\n",
      "Epoch 3/5\n",
      "116/116 [==============================] - 2s 19ms/step - loss: 0.1795 - accuracy: 0.9335 - val_loss: 0.2070 - val_accuracy: 0.9172\n",
      "Epoch 4/5\n",
      "116/116 [==============================] - 2s 19ms/step - loss: 0.1311 - accuracy: 0.9534 - val_loss: 0.2221 - val_accuracy: 0.9258\n",
      "Epoch 5/5\n",
      "116/116 [==============================] - 2s 18ms/step - loss: 0.1042 - accuracy: 0.9630 - val_loss: 0.2152 - val_accuracy: 0.9302\n"
     ]
    }
   ],
   "source": [
    "history = model.fit(x_train,y_train,validation_split=0.2, epochs=5, batch_size=64)"
   ]
  },
  {
   "cell_type": "markdown",
   "metadata": {},
   "source": [
    "## Model Evaluation"
   ]
  },
  {
   "cell_type": "code",
   "execution_count": 66,
   "metadata": {
    "pycharm": {
     "is_executing": true,
     "name": "#%%\n"
    }
   },
   "outputs": [
    {
     "data": {
      "image/png": "[encoded data removed]",
      "text/plain": [
       "<Figure size 864x360 with 1 Axes>"
      ]
     },
     "metadata": {
      "needs_background": "light"
     },
     "output_type": "display_data"
    },
    {
     "data": {
      "image/png": "[encoded data removed]",
      "text/plain": [
       "<Figure size 864x360 with 1 Axes>"
      ]
     },
     "metadata": {
      "needs_background": "light"
     },
     "output_type": "display_data"
    }
   ],
   "source": [
    "plot_model_evaluation(history)"
   ]
  },
  {
   "cell_type": "code",
   "execution_count": 67,
   "metadata": {
    "pycharm": {
     "is_executing": true,
     "name": "#%%\n"
    }
   },
   "outputs": [
    {
     "name": "stdout",
     "output_type": "stream",
     "text": [
      "231/231 [==============================] - 1s 2ms/step\n"
     ]
    }
   ],
   "source": [
    "def decode_sentiment(score):\n",
    "    return \"Positive\" if score>0.5 else \"Negative\"\n",
    "\n",
    "\n",
    "scores = model.predict(x_test, verbose=1, batch_size=10)\n",
    "y_pred_1d = [decode_sentiment(score) for score in scores]"
   ]
  },
  {
   "cell_type": "code",
   "execution_count": 68,
   "metadata": {
    "pycharm": {
     "is_executing": true,
     "name": "#%%\n"
    }
   },
   "outputs": [
    {
     "name": "stdout",
     "output_type": "stream",
     "text": [
      "              precision    recall  f1-score   support\n",
      "\n",
      "    Negative       0.00      0.00      0.00       0.0\n",
      "    Positive       0.00      0.00      0.00       0.0\n",
      "    negative       0.00      0.00      0.00    1849.0\n",
      "    positive       0.00      0.00      0.00     460.0\n",
      "\n",
      "    accuracy                           0.00    2309.0\n",
      "   macro avg       0.00      0.00      0.00    2309.0\n",
      "weighted avg       0.00      0.00      0.00    2309.0\n",
      "\n"
     ]
    }
   ],
   "source": [
    "print(classification_report(list(test_data.airline_sentiment), y_pred_1d))"
   ]
  },
  {
   "cell_type": "markdown",
   "metadata": {},
   "source": [
    "# 3.1Train RNN on ntlk dataset which is well balanced:"
   ]
  },
  {
   "cell_type": "markdown",
   "metadata": {},
   "source": [
    "## Dataset Preprocessing"
   ]
  },
  {
   "cell_type": "code",
   "execution_count": 69,
   "metadata": {
    "pycharm": {
     "is_executing": true,
     "name": "#%%\n"
    }
   },
   "outputs": [],
   "source": [
    "#import dataset from nltk\n",
    "all_positive_tweets = twitter_samples.strings('positive_tweets.json')\n",
    "all_negative_tweets = twitter_samples.strings('negative_tweets.json')\n",
    "\n",
    "#create labels\n",
    "one_array = [1] * len(all_positive_tweets)\n",
    "zero_array = [0] * len(all_negative_tweets)\n",
    "\n",
    "all_tweets = all_positive_tweets + all_negative_tweets\n",
    "all_labels = one_array + zero_array\n",
    "tweets_and_labels = np.vstack((all_tweets,all_labels)).T\n",
    "\n",
    "#introduce randomization to the training and test sets\n",
    "np.random.shuffle(tweets_and_labels)\n",
    "\n",
    "#extract X (data) and y (labels) columns\n",
    "nltk_X = tweets_and_labels[:,0].tolist()\n",
    "nltk_y = tweets_and_labels[:,1].T.astype(int).tolist()\n",
    "\n",
    "#split the data set into train and test sets with a 80/20 ratio\n",
    "nltk_X_train, nltk_X_test, nltk_y_train, nltk_y_test = train_test_split(nltk_X, nltk_y, test_size=0.20)\n",
    "nltk_y_train = np.array([nltk_y_train]).T\n",
    "nltk_y_test = np.array([nltk_y_test]).T"
   ]
  },
  {
   "cell_type": "code",
   "execution_count": 70,
   "metadata": {
    "pycharm": {
     "is_executing": true,
     "name": "#%%\n"
    }
   },
   "outputs": [
    {
     "name": "stdout",
     "output_type": "stream",
     "text": [
      "['1' '1' '1' '0' '0']\n"
     ]
    },
    {
     "data": {
      "text/html": [
       "<div>\n",
       "<style scoped>\n",
       "    .dataframe tbody tr th:only-of-type {\n",
       "        vertical-align: middle;\n",
       "    }\n",
       "\n",
       "    .dataframe tbody tr th {\n",
       "        vertical-align: top;\n",
       "    }\n",
       "\n",
       "    .dataframe thead th {\n",
       "        text-align: right;\n",
       "    }\n",
       "</style>\n",
       "<table border=\"1\" class=\"dataframe\">\n",
       "  <thead>\n",
       "    <tr style=\"text-align: right;\">\n",
       "      <th></th>\n",
       "      <th>0</th>\n",
       "      <th>1</th>\n",
       "    </tr>\n",
       "  </thead>\n",
       "  <tbody>\n",
       "    <tr>\n",
       "      <th>0</th>\n",
       "      <td>Dare I say that there is a video of me on our ...</td>\n",
       "      <td>1</td>\n",
       "    </tr>\n",
       "    <tr>\n",
       "      <th>1</th>\n",
       "      <td>#NowPlaying Loftey - Routte To Assia(Main Mix)...</td>\n",
       "      <td>1</td>\n",
       "    </tr>\n",
       "    <tr>\n",
       "      <th>2</th>\n",
       "      <td>@CharmingJedward you´re welcome!! :)</td>\n",
       "      <td>1</td>\n",
       "    </tr>\n",
       "    <tr>\n",
       "      <th>3</th>\n",
       "      <td>#feelgoodfriday on the way to camp in the new ...</td>\n",
       "      <td>0</td>\n",
       "    </tr>\n",
       "    <tr>\n",
       "      <th>4</th>\n",
       "      <td>@irisharry_ Awww no :( I didn't mean to make y...</td>\n",
       "      <td>0</td>\n",
       "    </tr>\n",
       "  </tbody>\n",
       "</table>\n",
       "</div>"
      ],
      "text/plain": [
       "                                                   0  1\n",
       "0  Dare I say that there is a video of me on our ...  1\n",
       "1  #NowPlaying Loftey - Routte To Assia(Main Mix)...  1\n",
       "2               @CharmingJedward you´re welcome!! :)  1\n",
       "3  #feelgoodfriday on the way to camp in the new ...  0\n",
       "4  @irisharry_ Awww no :( I didn't mean to make y...  0"
      ]
     },
     "execution_count": 70,
     "metadata": {},
     "output_type": "execute_result"
    }
   ],
   "source": [
    "print(tweets_and_labels[:5,1])\n",
    "nltk_df = pd.DataFrame(tweets_and_labels)\n",
    "nltk_df.head()"
   ]
  },
  {
   "cell_type": "code",
   "execution_count": 71,
   "metadata": {
    "pycharm": {
     "is_executing": true,
     "name": "#%%\n"
    }
   },
   "outputs": [
    {
     "data": {
      "text/html": [
       "<div>\n",
       "<style scoped>\n",
       "    .dataframe tbody tr th:only-of-type {\n",
       "        vertical-align: middle;\n",
       "    }\n",
       "\n",
       "    .dataframe tbody tr th {\n",
       "        vertical-align: top;\n",
       "    }\n",
       "\n",
       "    .dataframe thead th {\n",
       "        text-align: right;\n",
       "    }\n",
       "</style>\n",
       "<table border=\"1\" class=\"dataframe\">\n",
       "  <thead>\n",
       "    <tr style=\"text-align: right;\">\n",
       "      <th></th>\n",
       "      <th>text</th>\n",
       "      <th>sentiment</th>\n",
       "    </tr>\n",
       "  </thead>\n",
       "  <tbody>\n",
       "    <tr>\n",
       "      <th>0</th>\n",
       "      <td>Dare I say that there is a video of me on our ...</td>\n",
       "      <td>1</td>\n",
       "    </tr>\n",
       "    <tr>\n",
       "      <th>1</th>\n",
       "      <td>#NowPlaying Loftey - Routte To Assia(Main Mix)...</td>\n",
       "      <td>1</td>\n",
       "    </tr>\n",
       "    <tr>\n",
       "      <th>2</th>\n",
       "      <td>@CharmingJedward you´re welcome!! :)</td>\n",
       "      <td>1</td>\n",
       "    </tr>\n",
       "    <tr>\n",
       "      <th>3</th>\n",
       "      <td>#feelgoodfriday on the way to camp in the new ...</td>\n",
       "      <td>0</td>\n",
       "    </tr>\n",
       "    <tr>\n",
       "      <th>4</th>\n",
       "      <td>@irisharry_ Awww no :( I didn't mean to make y...</td>\n",
       "      <td>0</td>\n",
       "    </tr>\n",
       "  </tbody>\n",
       "</table>\n",
       "</div>"
      ],
      "text/plain": [
       "                                                text sentiment\n",
       "0  Dare I say that there is a video of me on our ...         1\n",
       "1  #NowPlaying Loftey - Routte To Assia(Main Mix)...         1\n",
       "2               @CharmingJedward you´re welcome!! :)         1\n",
       "3  #feelgoodfriday on the way to camp in the new ...         0\n",
       "4  @irisharry_ Awww no :( I didn't mean to make y...         0"
      ]
     },
     "execution_count": 71,
     "metadata": {},
     "output_type": "execute_result"
    }
   ],
   "source": [
    "nltk_df.columns = ['text', 'sentiment']\n",
    "nltk_df.head()"
   ]
  },
  {
   "cell_type": "code",
   "execution_count": 72,
   "metadata": {
    "pycharm": {
     "is_executing": true,
     "name": "#%%\n"
    }
   },
   "outputs": [
    {
     "data": {
      "text/html": [
       "<div>\n",
       "<style scoped>\n",
       "    .dataframe tbody tr th:only-of-type {\n",
       "        vertical-align: middle;\n",
       "    }\n",
       "\n",
       "    .dataframe tbody tr th {\n",
       "        vertical-align: top;\n",
       "    }\n",
       "\n",
       "    .dataframe thead th {\n",
       "        text-align: right;\n",
       "    }\n",
       "</style>\n",
       "<table border=\"1\" class=\"dataframe\">\n",
       "  <thead>\n",
       "    <tr style=\"text-align: right;\">\n",
       "      <th></th>\n",
       "      <th>text</th>\n",
       "      <th>sentiment</th>\n",
       "    </tr>\n",
       "  </thead>\n",
       "  <tbody>\n",
       "    <tr>\n",
       "      <th>0</th>\n",
       "      <td>Dare I say that there is a video of me on our ...</td>\n",
       "      <td>Positive</td>\n",
       "    </tr>\n",
       "    <tr>\n",
       "      <th>1</th>\n",
       "      <td>#NowPlaying Loftey - Routte To Assia(Main Mix)...</td>\n",
       "      <td>Positive</td>\n",
       "    </tr>\n",
       "    <tr>\n",
       "      <th>2</th>\n",
       "      <td>@CharmingJedward you´re welcome!! :)</td>\n",
       "      <td>Positive</td>\n",
       "    </tr>\n",
       "    <tr>\n",
       "      <th>3</th>\n",
       "      <td>#feelgoodfriday on the way to camp in the new ...</td>\n",
       "      <td>Negative</td>\n",
       "    </tr>\n",
       "    <tr>\n",
       "      <th>4</th>\n",
       "      <td>@irisharry_ Awww no :( I didn't mean to make y...</td>\n",
       "      <td>Negative</td>\n",
       "    </tr>\n",
       "  </tbody>\n",
       "</table>\n",
       "</div>"
      ],
      "text/plain": [
       "                                                text sentiment\n",
       "0  Dare I say that there is a video of me on our ...  Positive\n",
       "1  #NowPlaying Loftey - Routte To Assia(Main Mix)...  Positive\n",
       "2               @CharmingJedward you´re welcome!! :)  Positive\n",
       "3  #feelgoodfriday on the way to camp in the new ...  Negative\n",
       "4  @irisharry_ Awww no :( I didn't mean to make y...  Negative"
      ]
     },
     "execution_count": 72,
     "metadata": {},
     "output_type": "execute_result"
    }
   ],
   "source": [
    "lab_to_sentiment = {0:\"Negative\", 1:\"Positive\"}\n",
    "def label_decoder(label):\n",
    "  return lab_to_sentiment[label]\n",
    "nltk_df.sentiment = nltk_df.sentiment.apply(lambda x: label_decoder(int(x)))\n",
    "nltk_df.head()"
   ]
  },
  {
   "cell_type": "code",
   "execution_count": 73,
   "metadata": {
    "pycharm": {
     "is_executing": true,
     "name": "#%%\n"
    }
   },
   "outputs": [
    {
     "name": "stdout",
     "output_type": "stream",
     "text": [
      "Positive    5000\n",
      "Negative    5000\n",
      "Name: sentiment, dtype: int64\n"
     ]
    },
    {
     "data": {
      "text/plain": [
       "Text(0.5, 1.0, 'Sentiment Data Distribution')"
      ]
     },
     "execution_count": 73,
     "metadata": {},
     "output_type": "execute_result"
    },
    {
     "data": {
      "image/png": "[encoded data removed]",
      "text/plain": [
       "<Figure size 576x288 with 1 Axes>"
      ]
     },
     "metadata": {
      "needs_background": "light"
     },
     "output_type": "display_data"
    }
   ],
   "source": [
    "val_count = nltk_df.sentiment.value_counts()\n",
    "print(val_count)\n",
    "plt.figure(figsize=(8,4))\n",
    "plt.bar(val_count.index, val_count.values)\n",
    "plt.title(\"Sentiment Data Distribution\")"
   ]
  },
  {
   "cell_type": "code",
   "execution_count": 74,
   "metadata": {
    "pycharm": {
     "is_executing": true,
     "name": "#%%\n"
    }
   },
   "outputs": [
    {
     "name": "stdout",
     "output_type": "stream",
     "text": [
      "Train Data size: 8000\n",
      "Test Data size 2000\n"
     ]
    }
   ],
   "source": [
    "nltk_df.text = nltk_df.text.apply(lambda x: preprocess(x))\n",
    "\n",
    "MAX_NB_WORDS = 100\n",
    "MAX_SEQUENCE_LENGTH = 10\n",
    "# Splits Dataset into Training and Testing set\n",
    "train_data, test_data = train_test_split(nltk_df, test_size=0.2,random_state=7)\n",
    "print(\"Train Data size:\", len(train_data))\n",
    "print(\"Test Data size\", len(test_data))"
   ]
  },
  {
   "cell_type": "markdown",
   "metadata": {},
   "source": [
    "## Tokenization"
   ]
  },
  {
   "cell_type": "code",
   "execution_count": 75,
   "metadata": {
    "pycharm": {
     "is_executing": true,
     "name": "#%%\n"
    }
   },
   "outputs": [
    {
     "name": "stdout",
     "output_type": "stream",
     "text": [
      "Vocabulary Size : 12346\n",
      "Training X Shape: (8000, 10)\n",
      "Testing X Shape: (2000, 10)\n"
     ]
    }
   ],
   "source": [
    "tokenizer = Tokenizer()\n",
    "tokenizer.fit_on_texts(train_data.text)\n",
    "\n",
    "word_index = tokenizer.word_index\n",
    "vocab_size = len(tokenizer.word_index) + 1\n",
    "print(\"Vocabulary Size :\", vocab_size)\n",
    "x_train = pad_sequences(tokenizer.texts_to_sequences(train_data.text),\n",
    "                        maxlen = MAX_SEQUENCE_LENGTH)\n",
    "x_test = pad_sequences(tokenizer.texts_to_sequences(test_data.text),\n",
    "                       maxlen = MAX_SEQUENCE_LENGTH)\n",
    "\n",
    "print(\"Training X Shape:\",x_train.shape)\n",
    "print(\"Testing X Shape:\",x_test.shape)"
   ]
  },
  {
   "cell_type": "markdown",
   "metadata": {},
   "source": [
    "## Label Encoding"
   ]
  },
  {
   "cell_type": "code",
   "execution_count": 76,
   "metadata": {
    "pycharm": {
     "is_executing": true,
     "name": "#%%\n"
    }
   },
   "outputs": [
    {
     "name": "stdout",
     "output_type": "stream",
     "text": [
      "y_train shape: (8000, 1)\n",
      "y_test shape: (2000, 1)\n"
     ]
    }
   ],
   "source": [
    "labels = train_data.sentiment.unique().tolist()\n",
    "encoder = LabelEncoder()\n",
    "encoder.fit(train_data.sentiment.to_list())\n",
    "\n",
    "y_train = encoder.transform(train_data.sentiment.to_list())\n",
    "y_test = encoder.transform(test_data.sentiment.to_list())\n",
    "\n",
    "y_train = y_train.reshape(-1,1)\n",
    "y_test = y_test.reshape(-1,1)\n",
    "\n",
    "print(\"y_train shape:\", y_train.shape)\n",
    "print(\"y_test shape:\", y_test.shape)"
   ]
  },
  {
   "cell_type": "markdown",
   "metadata": {},
   "source": [
    "## Build the Text Classifier"
   ]
  },
  {
   "cell_type": "code",
   "execution_count": 86,
   "metadata": {
    "pycharm": {
     "is_executing": true,
     "name": "#%%\n"
    }
   },
   "outputs": [
    {
     "name": "stdout",
     "output_type": "stream",
     "text": [
      "Model: \"sequential_3\"\n",
      "_________________________________________________________________\n",
      " Layer (type)                Output Shape              Param #   \n",
      "=================================================================\n",
      " embedding_3 (Embedding)     (None, 10, 32)            395072    \n",
      "                                                                 \n",
      " spatial_dropout1d_3 (Spatia  (None, 10, 32)           0         \n",
      " lDropout1D)                                                     \n",
      "                                                                 \n",
      " lstm_3 (LSTM)               (None, 50)                16600     \n",
      "                                                                 \n",
      " dropout_3 (Dropout)         (None, 50)                0         \n",
      "                                                                 \n",
      " dense_3 (Dense)             (None, 1)                 51        \n",
      "                                                                 \n",
      "=================================================================\n",
      "Total params: 411,723\n",
      "Trainable params: 411,723\n",
      "Non-trainable params: 0\n",
      "_________________________________________________________________\n",
      "None\n"
     ]
    }
   ],
   "source": [
    "embedding_vector_length = 32\n",
    "model = Sequential()\n",
    "model.add(Embedding(vocab_size, embedding_vector_length, input_length=10))\n",
    "model.add(SpatialDropout1D(0.25))\n",
    "model.add(LSTM(50, dropout=0.5, recurrent_dropout=0.5))\n",
    "model.add(Dropout(0.2))\n",
    "model.add(Dense(1, activation='sigmoid'))\n",
    "model.compile(loss='binary_crossentropy',optimizer='adam', metrics=['accuracy'])\n",
    "print(model.summary())"
   ]
  },
  {
   "cell_type": "code",
   "execution_count": 87,
   "metadata": {
    "pycharm": {
     "is_executing": true,
     "name": "#%%\n"
    }
   },
   "outputs": [
    {
     "name": "stdout",
     "output_type": "stream",
     "text": [
      "Epoch 1/5\n",
      "100/100 [==============================] - 2s 8ms/step - loss: 0.6781 - accuracy: 0.5817 - val_loss: 0.6250 - val_accuracy: 0.6719\n",
      "Epoch 2/5\n",
      "100/100 [==============================] - 1s 5ms/step - loss: 0.5395 - accuracy: 0.7336 - val_loss: 0.5007 - val_accuracy: 0.7531\n",
      "Epoch 3/5\n",
      "100/100 [==============================] - 1s 5ms/step - loss: 0.4004 - accuracy: 0.8273 - val_loss: 0.4925 - val_accuracy: 0.7425\n",
      "Epoch 4/5\n",
      "100/100 [==============================] - 1s 5ms/step - loss: 0.3091 - accuracy: 0.8803 - val_loss: 0.5115 - val_accuracy: 0.7550\n",
      "Epoch 5/5\n",
      "100/100 [==============================] - 1s 5ms/step - loss: 0.2510 - accuracy: 0.9033 - val_loss: 0.5401 - val_accuracy: 0.7487\n"
     ]
    }
   ],
   "source": [
    "history = model.fit(x_train,y_train,validation_split=0.2, epochs=5, batch_size=64)"
   ]
  },
  {
   "cell_type": "markdown",
   "metadata": {},
   "source": [
    "## Model Evaluation"
   ]
  },
  {
   "cell_type": "code",
   "execution_count": 88,
   "metadata": {
    "pycharm": {
     "is_executing": true,
     "name": "#%%\n"
    }
   },
   "outputs": [
    {
     "data": {
      "image/png": "[encoded data removed]",
      "text/plain": [
       "<Figure size 864x360 with 1 Axes>"
      ]
     },
     "metadata": {
      "needs_background": "light"
     },
     "output_type": "display_data"
    },
    {
     "data": {
      "image/png": "[encoded data removed]",
      "text/plain": [
       "<Figure size 864x360 with 1 Axes>"
      ]
     },
     "metadata": {
      "needs_background": "light"
     },
     "output_type": "display_data"
    }
   ],
   "source": [
    "plot_model_evaluation(history)\n"
   ]
  },
  {
   "cell_type": "code",
   "execution_count": 89,
   "metadata": {
    "pycharm": {
     "is_executing": true,
     "name": "#%%\n"
    }
   },
   "outputs": [
    {
     "name": "stdout",
     "output_type": "stream",
     "text": [
      "200/200 [==============================] - 0s 880us/step\n"
     ]
    }
   ],
   "source": [
    "scores = model.predict(x_test, verbose=1, batch_size=10)\n",
    "y_pred_1d = [decode_sentiment(score) for score in scores]"
   ]
  },
  {
   "cell_type": "code",
   "execution_count": 90,
   "metadata": {
    "pycharm": {
     "is_executing": true,
     "name": "#%%\n"
    }
   },
   "outputs": [
    {
     "data": {
      "image/png": "[encoded data removed]",
      "text/plain": [
       "<Figure size 432x432 with 2 Axes>"
      ]
     },
     "metadata": {
      "needs_background": "light"
     },
     "output_type": "display_data"
    }
   ],
   "source": [
    "cnf_matrix = confusion_matrix(test_data.sentiment.to_list(), y_pred_1d)\n",
    "plt.figure(figsize=(6,6))\n",
    "plot_confusion_matrix(cnf_matrix, classes= test_data.sentiment.unique(), title=\"Confusion matrix\")\n",
    "plt.show()"
   ]
  },
  {
   "cell_type": "code",
   "execution_count": 91,
   "metadata": {
    "pycharm": {
     "is_executing": true,
     "name": "#%%\n"
    }
   },
   "outputs": [
    {
     "name": "stdout",
     "output_type": "stream",
     "text": [
      "              precision    recall  f1-score   support\n",
      "\n",
      "    Negative       0.72      0.80      0.76       977\n",
      "    Positive       0.78      0.70      0.74      1023\n",
      "\n",
      "    accuracy                           0.75      2000\n",
      "   macro avg       0.75      0.75      0.75      2000\n",
      "weighted avg       0.75      0.75      0.75      2000\n",
      "\n"
     ]
    }
   ],
   "source": [
    "print(classification_report(list(test_data.sentiment), y_pred_1d))"
   ]
  },
  {
   "cell_type": "code",
   "execution_count": null,
   "metadata": {},
   "outputs": [],
   "source": []
  }
 ],
 "metadata": {
  "kernelspec": {
   "display_name": "Python 3 (ipykernel)",
   "language": "python",
   "name": "python3"
  },
  "language_info": {
   "codemirror_mode": {
    "name": "ipython",
    "version": 3
   },
   "file_extension": ".py",
   "mimetype": "text/x-python",
   "name": "python",
   "nbconvert_exporter": "python",
   "pygments_lexer": "ipython3",
   "version": "3.10.4"
  }
 },
 "nbformat": 4,
 "nbformat_minor": 1
}